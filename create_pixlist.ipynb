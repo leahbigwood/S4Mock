{
 "cells": [
  {
   "cell_type": "code",
   "execution_count": 11,
   "id": "b31d543f-a806-471a-88d7-3457b76d9c68",
   "metadata": {},
   "outputs": [],
   "source": [
    "import os\n",
    "import sys\n",
    "\n",
    "from   astropy.table import Table\n",
    "from   desimodel.footprint import tiles2pix\n",
    "\n",
    "sys.path.append(os.environ['HOME'] + '/LSS/py/')\n",
    "\n",
    "from   LSS.SV3.cattools import tile2rosette\n",
    "from   desimodel.footprint import tiles2pix\n",
    "import numpy as np\n",
    "\n",
    "\n",
    "root = '/global/cscratch1/sd/mjwilson/altmtls/'"
   ]
  },
  {
   "cell_type": "code",
   "execution_count": 24,
   "id": "0f7966c0-cb5b-4c95-a763-95fccafaabbb",
   "metadata": {},
   "outputs": [
    {
     "name": "stdout",
     "output_type": "stream",
     "text": [
      "\n",
      "\n",
      "\n",
      "525 [6478 6479 6490 6500 6501 6503 6512]\n",
      "526 [6478 6479 6490 6500 6501 6512]\n",
      "527 [6478 6479 6490 6500 6501 6512]\n",
      "528 [6478 6479 6490 6500 6501 6503 6512]\n",
      "529 [6478 6479 6490 6500 6501 6512]\n",
      "530 [6478 6479 6490 6500 6501 6503 6512]\n",
      "531 [6478 6479 6490 6500 6501 6503 6512]\n",
      "532 [6478 6479 6490 6500 6501 6512]\n",
      "533 [6478 6479 6490 6500 6501 6512]\n",
      "534 [6478 6479 6490 6500 6501 6503 6512]\n",
      "535 [6478 6479 6490 6500 6501 6512]\n"
     ]
    }
   ],
   "source": [
    "# ---- Get SV3 tiles and assign rosette ---\n",
    "sv3_tiles = Table.read('/global/cfs/cdirs/desi/survey/ops/surveyops/trunk/ops/tiles-sv3.ecsv')\n",
    "sv3_tiles = sv3_tiles[sv3_tiles['PROGRAM'] == 'BRIGHT']                                                                                                                                              \n",
    "\n",
    "# https://github.com/desihub/LSS/blob/092c7d98ad50b3a70f8d4e1d2b148fb36e21bb14/py/LSS/SV3/cattools.py#L21\n",
    "ros       = [tile2rosette(x) for x in sv3_tiles['TILEID'].data]\n",
    "\n",
    "sv3_tiles['ROS'] = ros\n",
    "#sv3_tiles.pprint()\n",
    "\n",
    "# ----  Limit tiles to rosettes: G12: [1,2]; G15: [8,9,10, 17] ----\n",
    "sv3_tiles = sv3_tiles[sv3_tiles['ROS'] == 17]\n",
    "#sv3_tiles.pprint()\n",
    "\n",
    "'''                                                                                                                                                                                                \n",
    "----  For each tile remaining, calculating the pix list at the desitarget nside  ---- \n",
    "      pixarea2nside(7.) = 32? TBC.\n",
    " \n",
    "TILEID    RA     DEC   OBSCONDITIONS IN_DESI PROGRAM                                                                                                                                                 \n",
    "int32  float64 float64     int32      int16   bytes6                                                                                                                                                \n",
    "------ ------- ------- ------------- ------- -------                                                                                                                                                \n",
    "    37 179.481  -0.018            15       1     SV3                                                                                                                                                                                                                                                                                                                                                '''\n",
    "pix = tiles2pix(32, tiles=sv3_tiles, radius=None, per_tile=True, fact=2**7)\n",
    "\n",
    "print('\\n\\n')\n",
    "\n",
    "for tt, pp in zip(sv3_tiles['TILEID'], pix):\n",
    "    print(tt, pp)\n",
    "    \n",
    " \n",
    "    os.mkdir('/global/cscratch1/sd/mjwilson/altmtls/tiles/{:06d}'.format(tt))\n",
    "    \n",
    "    \n",
    "    np.savetxt('/global/cscratch1/sd/mjwilson/altmtls/tiles/{:06d}/pixlist.txt'.format(tt),np.sort(pp), fmt='%s')\n",
    "    \n"
   ]
  },
  {
   "cell_type": "code",
   "execution_count": 37,
   "id": "5c9d5f23-c63b-4d5b-8174-c3b3506a88ba",
   "metadata": {},
   "outputs": [
    {
     "data": {
      "text/html": [
       "<i>Table length=551</i>\n",
       "<table id=\"table46912562384800\" class=\"table-striped table-bordered table-condensed\">\n",
       "<thead><tr><th>RA</th><th>DEC</th><th>PARALLAX</th><th>PMRA</th><th>PMDEC</th><th>REF_EPOCH</th><th>SV3_DESI_TARGET</th><th>SV3_BGS_TARGET</th><th>SV3_MWS_TARGET</th><th>SCND_TARGET</th><th>TARGETID</th><th>SUBPRIORITY</th><th>OBSCONDITIONS</th><th>PRIORITY_INIT</th><th>NUMOBS_INIT</th><th>PRIORITY</th><th>NUMOBS</th><th>NUMOBS_MORE</th><th>Z</th><th>ZWARN</th><th>TIMESTAMP</th><th>VERSION</th><th>TARGET_STATE</th><th>ZTILEID</th><th>PLATE_RA</th><th>PLATE_DEC</th><th>PLATE_REF_EPOCH</th></tr></thead>\n",
       "<thead><tr><th>float64</th><th>float64</th><th>float32</th><th>float32</th><th>float32</th><th>float32</th><th>int64</th><th>int64</th><th>int64</th><th>int64</th><th>int64</th><th>float64</th><th>int32</th><th>int64</th><th>int64</th><th>int64</th><th>int64</th><th>int64</th><th>float64</th><th>int64</th><th>str25</th><th>str14</th><th>str30</th><th>int32</th><th>float64</th><th>float64</th><th>float32</th></tr></thead>\n",
       "<tr><td>180.20843525338609</td><td>-0.8667195440981175</td><td>0.0</td><td>0.0</td><td>0.0</td><td>2015.5</td><td>1152921504606846976</td><td>257</td><td>0</td><td>0</td><td>6399000</td><td>0.5081228112175348</td><td>516</td><td>102000</td><td>9</td><td>102000</td><td>0</td><td>9</td><td>-1.0</td><td>-1</td><td>2021-04-04T23:05:09</td><td>0.57.0</td><td>BGS|UNOBS</td><td>-1</td><td>180.20843525338609</td><td>-0.8667195440981175</td><td>0.0</td></tr>\n",
       "<tr><td>179.99096388244809</td><td>-0.5822481008980844</td><td>0.0</td><td>0.0</td><td>0.0</td><td>2015.5</td><td>1152921504606846976</td><td>257</td><td>0</td><td>0</td><td>6399002</td><td>0.07992900600997899</td><td>516</td><td>102000</td><td>9</td><td>102000</td><td>0</td><td>9</td><td>-1.0</td><td>-1</td><td>2021-04-04T23:05:09</td><td>0.57.0</td><td>BGS|UNOBS</td><td>-1</td><td>179.99096388244809</td><td>-0.5822481008980844</td><td>0.0</td></tr>\n",
       "<tr><td>180.05201295679583</td><td>-0.20641186486462004</td><td>0.0</td><td>0.0</td><td>0.0</td><td>2015.5</td><td>0</td><td>0</td><td>0</td><td>0</td><td>6399003</td><td>0.7266733862862026</td><td>516</td><td>-99</td><td>9</td><td>-99</td><td>0</td><td>9</td><td>-1.0</td><td>-1</td><td>2021-04-04T23:05:09</td><td>0.57.0</td><td>BGS|UNOBS</td><td>-1</td><td>180.05201295679583</td><td>-0.20641186486462004</td><td>0.0</td></tr>\n",
       "<tr><td>179.86290320548125</td><td>-0.4552932911576306</td><td>0.0</td><td>0.0</td><td>0.0</td><td>2015.5</td><td>1152921504606846976</td><td>257</td><td>0</td><td>0</td><td>6399004</td><td>0.5717143953365771</td><td>516</td><td>102000</td><td>9</td><td>102000</td><td>0</td><td>9</td><td>-1.0</td><td>-1</td><td>2021-04-04T23:05:09</td><td>0.57.0</td><td>BGS|UNOBS</td><td>-1</td><td>179.86290320548125</td><td>-0.4552932911576306</td><td>0.0</td></tr>\n",
       "<tr><td>179.10856745447506</td><td>-0.8954465058300656</td><td>0.0</td><td>0.0</td><td>0.0</td><td>2015.5</td><td>0</td><td>0</td><td>0</td><td>0</td><td>6399006</td><td>0.2704899102278969</td><td>516</td><td>-99</td><td>9</td><td>-99</td><td>0</td><td>9</td><td>-1.0</td><td>-1</td><td>2021-04-04T23:05:09</td><td>0.57.0</td><td>BGS|UNOBS</td><td>-1</td><td>179.10856745447506</td><td>-0.8954465058300656</td><td>0.0</td></tr>\n",
       "<tr><td>180.36049106998175</td><td>-0.6631179045838138</td><td>0.0</td><td>0.0</td><td>0.0</td><td>2015.5</td><td>0</td><td>0</td><td>0</td><td>0</td><td>6399007</td><td>0.622141090664635</td><td>516</td><td>-99</td><td>9</td><td>-99</td><td>0</td><td>9</td><td>-1.0</td><td>-1</td><td>2021-04-04T23:05:09</td><td>0.57.0</td><td>BGS|UNOBS</td><td>-1</td><td>180.36049106998175</td><td>-0.6631179045838138</td><td>0.0</td></tr>\n",
       "<tr><td>180.3274596482541</td><td>-0.7996844589650323</td><td>0.0</td><td>0.0</td><td>0.0</td><td>2015.5</td><td>0</td><td>0</td><td>0</td><td>0</td><td>6399008</td><td>0.869348489054385</td><td>516</td><td>-99</td><td>9</td><td>-99</td><td>0</td><td>9</td><td>-1.0</td><td>-1</td><td>2021-04-04T23:05:09</td><td>0.57.0</td><td>BGS|UNOBS</td><td>-1</td><td>180.3274596482541</td><td>-0.7996844589650323</td><td>0.0</td></tr>\n",
       "<tr><td>180.08476360288546</td><td>-0.7438031376432406</td><td>0.0</td><td>0.0</td><td>0.0</td><td>2015.5</td><td>1152921504606846976</td><td>257</td><td>0</td><td>0</td><td>6399009</td><td>0.8451911498519027</td><td>516</td><td>102000</td><td>9</td><td>102000</td><td>0</td><td>9</td><td>-1.0</td><td>-1</td><td>2021-04-04T23:05:09</td><td>0.57.0</td><td>BGS|UNOBS</td><td>-1</td><td>180.08476360288546</td><td>-0.7438031376432406</td><td>0.0</td></tr>\n",
       "<tr><td>180.10512626309668</td><td>-0.9614408401729122</td><td>0.0</td><td>0.0</td><td>0.0</td><td>2015.5</td><td>1152921504606846976</td><td>257</td><td>0</td><td>0</td><td>6399010</td><td>0.620514021881288</td><td>516</td><td>102000</td><td>9</td><td>102000</td><td>0</td><td>9</td><td>-1.0</td><td>-1</td><td>2021-04-04T23:05:09</td><td>0.57.0</td><td>BGS|UNOBS</td><td>-1</td><td>180.10512626309668</td><td>-0.9614408401729122</td><td>0.0</td></tr>\n",
       "<tr><td>180.00650359606746</td><td>-1.0804039593948147</td><td>0.0</td><td>0.0</td><td>0.0</td><td>2015.5</td><td>1152921504606846976</td><td>265</td><td>0</td><td>0</td><td>6399011</td><td>0.4911619726096619</td><td>516</td><td>102100</td><td>9</td><td>102100</td><td>0</td><td>9</td><td>-1.0</td><td>-1</td><td>2021-04-04T23:05:09</td><td>0.57.0</td><td>BGS|UNOBS</td><td>-1</td><td>180.00650359606746</td><td>-1.0804039593948147</td><td>0.0</td></tr>\n",
       "<tr><td>...</td><td>...</td><td>...</td><td>...</td><td>...</td><td>...</td><td>...</td><td>...</td><td>...</td><td>...</td><td>...</td><td>...</td><td>...</td><td>...</td><td>...</td><td>...</td><td>...</td><td>...</td><td>...</td><td>...</td><td>...</td><td>...</td><td>...</td><td>...</td><td>...</td><td>...</td><td>...</td></tr>\n",
       "<tr><td>179.40185185831646</td><td>1.052951126792351</td><td>0.0</td><td>0.0</td><td>0.0</td><td>2015.5</td><td>0</td><td>0</td><td>0</td><td>0</td><td>6912165</td><td>0.7146662531273722</td><td>516</td><td>-99</td><td>9</td><td>-99</td><td>0</td><td>9</td><td>-1.0</td><td>-1</td><td>2021-04-04T23:05:09</td><td>0.57.0</td><td>BGS|UNOBS</td><td>-1</td><td>179.40185185831646</td><td>1.052951126792351</td><td>0.0</td></tr>\n",
       "<tr><td>180.0591288452165</td><td>0.8088945397913392</td><td>0.0</td><td>0.0</td><td>0.0</td><td>2015.5</td><td>1152921504606846976</td><td>257</td><td>0</td><td>0</td><td>6912166</td><td>0.2899795817999715</td><td>516</td><td>102000</td><td>9</td><td>102000</td><td>0</td><td>9</td><td>-1.0</td><td>-1</td><td>2021-04-04T23:05:09</td><td>0.57.0</td><td>BGS|UNOBS</td><td>-1</td><td>180.0591288452165</td><td>0.8088945397913392</td><td>0.0</td></tr>\n",
       "<tr><td>178.6300107404718</td><td>1.328819929493676</td><td>0.0</td><td>0.0</td><td>0.0</td><td>2015.5</td><td>1152921504606846976</td><td>265</td><td>0</td><td>0</td><td>6914000</td><td>0.6869311599448213</td><td>516</td><td>102100</td><td>9</td><td>102100</td><td>0</td><td>9</td><td>-1.0</td><td>-1</td><td>2021-04-04T23:05:09</td><td>0.57.0</td><td>BGS|UNOBS</td><td>-1</td><td>178.6300107404718</td><td>1.328819929493676</td><td>0.0</td></tr>\n",
       "<tr><td>178.62076609640062</td><td>1.3613797487182353</td><td>0.0</td><td>0.0</td><td>0.0</td><td>2015.5</td><td>0</td><td>0</td><td>0</td><td>0</td><td>6914001</td><td>0.03515557440588446</td><td>516</td><td>-99</td><td>9</td><td>-99</td><td>0</td><td>9</td><td>-1.0</td><td>-1</td><td>2021-04-04T23:05:09</td><td>0.57.0</td><td>BGS|UNOBS</td><td>-1</td><td>178.62076609640062</td><td>1.3613797487182353</td><td>0.0</td></tr>\n",
       "<tr><td>178.74430835582427</td><td>1.4912693870787308</td><td>0.0</td><td>0.0</td><td>0.0</td><td>2015.5</td><td>0</td><td>0</td><td>0</td><td>0</td><td>6914002</td><td>0.6369220541784139</td><td>516</td><td>-99</td><td>9</td><td>-99</td><td>0</td><td>9</td><td>-1.0</td><td>-1</td><td>2021-04-04T23:05:09</td><td>0.57.0</td><td>BGS|UNOBS</td><td>-1</td><td>178.74430835582427</td><td>1.4912693870787308</td><td>0.0</td></tr>\n",
       "<tr><td>178.60124250718235</td><td>1.303646810379675</td><td>0.0</td><td>0.0</td><td>0.0</td><td>2015.5</td><td>1152921504606846976</td><td>257</td><td>0</td><td>0</td><td>6914003</td><td>0.30859457983156136</td><td>516</td><td>102000</td><td>9</td><td>102000</td><td>0</td><td>9</td><td>-1.0</td><td>-1</td><td>2021-04-04T23:05:09</td><td>0.57.0</td><td>BGS|UNOBS</td><td>-1</td><td>178.60124250718235</td><td>1.303646810379675</td><td>0.0</td></tr>\n",
       "<tr><td>178.58062806782877</td><td>1.32501150976573</td><td>0.0</td><td>0.0</td><td>0.0</td><td>2015.5</td><td>0</td><td>0</td><td>0</td><td>0</td><td>6914004</td><td>0.39544848443550895</td><td>516</td><td>-99</td><td>9</td><td>-99</td><td>0</td><td>9</td><td>-1.0</td><td>-1</td><td>2021-04-04T23:05:09</td><td>0.57.0</td><td>BGS|UNOBS</td><td>-1</td><td>178.58062806782877</td><td>1.32501150976573</td><td>0.0</td></tr>\n",
       "<tr><td>178.86295542640698</td><td>1.4355734234472237</td><td>0.0</td><td>0.0</td><td>0.0</td><td>2015.5</td><td>0</td><td>0</td><td>0</td><td>0</td><td>6914005</td><td>0.7157482344813992</td><td>516</td><td>-99</td><td>9</td><td>-99</td><td>0</td><td>9</td><td>-1.0</td><td>-1</td><td>2021-04-04T23:05:09</td><td>0.57.0</td><td>BGS|UNOBS</td><td>-1</td><td>178.86295542640698</td><td>1.4355734234472237</td><td>0.0</td></tr>\n",
       "<tr><td>178.77956954188443</td><td>1.3817776395006263</td><td>0.0</td><td>0.0</td><td>0.0</td><td>2015.5</td><td>1152921504606846976</td><td>265</td><td>0</td><td>0</td><td>6914006</td><td>0.3757945181671092</td><td>516</td><td>102100</td><td>9</td><td>102100</td><td>0</td><td>9</td><td>-1.0</td><td>-1</td><td>2021-04-04T23:05:09</td><td>0.57.0</td><td>BGS|UNOBS</td><td>-1</td><td>178.77956954188443</td><td>1.3817776395006263</td><td>0.0</td></tr>\n",
       "<tr><td>178.69031755560627</td><td>1.2904909381724536</td><td>0.0</td><td>0.0</td><td>0.0</td><td>2015.5</td><td>1152921504606846976</td><td>257</td><td>0</td><td>0</td><td>6914007</td><td>0.657257104068669</td><td>516</td><td>102000</td><td>9</td><td>102000</td><td>0</td><td>9</td><td>-1.0</td><td>-1</td><td>2021-04-04T23:05:09</td><td>0.57.0</td><td>BGS|UNOBS</td><td>-1</td><td>178.69031755560627</td><td>1.2904909381724536</td><td>0.0</td></tr>\n",
       "</table>"
      ],
      "text/plain": [
       "<Table length=551>\n",
       "        RA                 DEC          ...      PLATE_DEC       PLATE_REF_EPOCH\n",
       "     float64             float64        ...       float64            float32    \n",
       "------------------ -------------------- ... -------------------- ---------------\n",
       "180.20843525338609  -0.8667195440981175 ...  -0.8667195440981175             0.0\n",
       "179.99096388244809  -0.5822481008980844 ...  -0.5822481008980844             0.0\n",
       "180.05201295679583 -0.20641186486462004 ... -0.20641186486462004             0.0\n",
       "179.86290320548125  -0.4552932911576306 ...  -0.4552932911576306             0.0\n",
       "179.10856745447506  -0.8954465058300656 ...  -0.8954465058300656             0.0\n",
       "180.36049106998175  -0.6631179045838138 ...  -0.6631179045838138             0.0\n",
       " 180.3274596482541  -0.7996844589650323 ...  -0.7996844589650323             0.0\n",
       "180.08476360288546  -0.7438031376432406 ...  -0.7438031376432406             0.0\n",
       "180.10512626309668  -0.9614408401729122 ...  -0.9614408401729122             0.0\n",
       "180.00650359606746  -1.0804039593948147 ...  -1.0804039593948147             0.0\n",
       "               ...                  ... ...                  ...             ...\n",
       "179.40185185831646    1.052951126792351 ...    1.052951126792351             0.0\n",
       " 180.0591288452165   0.8088945397913392 ...   0.8088945397913392             0.0\n",
       " 178.6300107404718    1.328819929493676 ...    1.328819929493676             0.0\n",
       "178.62076609640062   1.3613797487182353 ...   1.3613797487182353             0.0\n",
       "178.74430835582427   1.4912693870787308 ...   1.4912693870787308             0.0\n",
       "178.60124250718235    1.303646810379675 ...    1.303646810379675             0.0\n",
       "178.58062806782877     1.32501150976573 ...     1.32501150976573             0.0\n",
       "178.86295542640698   1.4355734234472237 ...   1.4355734234472237             0.0\n",
       "178.77956954188443   1.3817776395006263 ...   1.3817776395006263             0.0\n",
       "178.69031755560627   1.2904909381724536 ...   1.2904909381724536             0.0"
      ]
     },
     "execution_count": 37,
     "metadata": {},
     "output_type": "execute_result"
    }
   ],
   "source": [
    "from astropy.io import fits as fits\n",
    "import matplotlib.pyplot as plt\n",
    "\n",
    "f = fits.open('/global/cscratch1/sd/mjwilson/altmtls/000039-targ.fits')\n",
    "x = Table(f[1].data)\n",
    "\n",
    "\n",
    "\n",
    "\"\"\"\n",
    "plt.figure(figsize=(7,7))\n",
    "plt.scatter(Table(f[1].data)['RA'],Table(f[1].data)['DEC'],color = 'purple')\n",
    "plt.xlabel('RA')\n",
    "plt.ylabel('DEC')\n",
    "plt.savefig('radec_targfile.png')\n",
    "\"\"\"\n",
    "x"
   ]
  },
  {
   "cell_type": "code",
   "execution_count": 33,
   "id": "aec97e0d-5315-40c9-a843-65248369d29b",
   "metadata": {},
   "outputs": [
    {
     "data": {
      "text/html": [
       "<i>Table length=5020</i>\n",
       "<table id=\"table46913304244032\" class=\"table-striped table-bordered table-condensed\">\n",
       "<thead><tr><th>FIBER</th><th>TARGETID</th><th>LOCATION</th><th>FIBERSTATUS</th><th>LAMBDA_REF</th><th>PETAL_LOC</th><th>DEVICE_LOC</th><th>DEVICE_TYPE</th><th>TARGET_RA</th><th>TARGET_DEC</th><th>FA_TARGET</th><th>FA_TYPE</th><th>FIBERASSIGN_X</th><th>FIBERASSIGN_Y</th></tr></thead>\n",
       "<thead><tr><th>int32</th><th>int64</th><th>int32</th><th>int32</th><th>float32</th><th>int16</th><th>int32</th><th>str3</th><th>float64</th><th>float64</th><th>int64</th><th>uint8</th><th>float32</th><th>float32</th></tr></thead>\n",
       "<tr><td>400</td><td>39627787740383529</td><td>0</td><td>0</td><td>5400.0</td><td>0</td><td>0</td><td>POS</td><td>179.603618046256</td><td>0.004957067925221883</td><td>4611686018427387904</td><td>1</td><td>-1.1219269</td><td>-27.955801</td></tr>\n",
       "<tr><td>449</td><td>616088540043805107</td><td>1</td><td>0</td><td>5400.0</td><td>0</td><td>1</td><td>POS</td><td>179.64323083271807</td><td>-0.04050082453743843</td><td>4294967296</td><td>4</td><td>-10.750432</td><td>-39.011635</td></tr>\n",
       "<tr><td>420</td><td>616088540043805219</td><td>2</td><td>0</td><td>5400.0</td><td>0</td><td>2</td><td>POS</td><td>179.5858819505225</td><td>-0.011244163901681129</td><td>4294967296</td><td>4</td><td>3.1882598</td><td>-31.894894</td></tr>\n",
       "<tr><td>401</td><td>616088540043804934</td><td>3</td><td>0</td><td>5400.0</td><td>0</td><td>3</td><td>POS</td><td>179.6256186111111</td><td>-0.0741241253088217</td><td>4294967296</td><td>4</td><td>-6.4706416</td><td>-47.19245</td></tr>\n",
       "<tr><td>403</td><td>616088540043805042</td><td>4</td><td>0</td><td>5400.0</td><td>0</td><td>4</td><td>POS</td><td>179.60313027883987</td><td>-0.049015817805127156</td><td>4294967296</td><td>4</td><td>-1.0035245</td><td>-41.081795</td></tr>\n",
       "<tr><td>427</td><td>616088540043804722</td><td>5</td><td>0</td><td>5400.0</td><td>0</td><td>5</td><td>POS</td><td>179.6435947215694</td><td>-0.11604400188271558</td><td>4294967296</td><td>4</td><td>-10.844077</td><td>-57.401737</td></tr>\n",
       "<tr><td>412</td><td>616088540043804690</td><td>6</td><td>0</td><td>5400.0</td><td>0</td><td>6</td><td>POS</td><td>179.61979638890318</td><td>-0.12361286325604787</td><td>4294967296</td><td>4</td><td>-5.0569034</td><td>-59.244324</td></tr>\n",
       "<tr><td>447</td><td>616088540043804836</td><td>7</td><td>0</td><td>5400.0</td><td>0</td><td>7</td><td>POS</td><td>179.5689247401261</td><td>-0.09821346788036996</td><td>4294967296</td><td>4</td><td>7.313174</td><td>-53.05743</td></tr>\n",
       "<tr><td>437</td><td>616088534004007941</td><td>8</td><td>0</td><td>5400.0</td><td>0</td><td>8</td><td>POS</td><td>179.65116368050002</td><td>-0.16073811101262295</td><td>4294967296</td><td>4</td><td>-12.689592</td><td>-68.29744</td></tr>\n",
       "<tr><td>431</td><td>39627781700586053</td><td>9</td><td>0</td><td>5400.0</td><td>0</td><td>9</td><td>POS</td><td>179.62970408029986</td><td>-0.147604021369272</td><td>4611686018427387904</td><td>1</td><td>-7.4678726</td><td>-65.092476</td></tr>\n",
       "<tr><td>...</td><td>...</td><td>...</td><td>...</td><td>...</td><td>...</td><td>...</td><td>...</td><td>...</td><td>...</td><td>...</td><td>...</td><td>...</td><td>...</td></tr>\n",
       "<tr><td>4917</td><td>616088509857399413</td><td>9512</td><td>0</td><td>5400.0</td><td>9</td><td>512</td><td>POS</td><td>180.25143047503545</td><td>-1.250688481122432</td><td>4294967296</td><td>4</td><td>-164.70944</td><td>-346.10107</td></tr>\n",
       "<tr><td>4848</td><td>-205298</td><td>9518</td><td>3</td><td>5400.0</td><td>9</td><td>518</td><td>POS</td><td>180.5535150236851</td><td>-1.1653176918438446</td><td>0</td><td>0</td><td>-242.03601</td><td>-325.97513</td></tr>\n",
       "<tr><td>4817</td><td>616088509861594027</td><td>9519</td><td>0</td><td>5400.0</td><td>9</td><td>519</td><td>POS</td><td>180.53157009928924</td><td>-1.1789309694681274</td><td>4294967296</td><td>4</td><td>-236.4457</td><td>-329.3924</td></tr>\n",
       "<tr><td>4847</td><td>616088509857399629</td><td>9520</td><td>0</td><td>5400.0</td><td>9</td><td>520</td><td>POS</td><td>180.46821221683373</td><td>-1.1985081505145332</td><td>4294967296</td><td>4</td><td>-220.14592</td><td>-333.9994</td></tr>\n",
       "<tr><td>4837</td><td>39627757553979218</td><td>9521</td><td>0</td><td>5400.0</td><td>9</td><td>521</td><td>POS</td><td>180.45612087474535</td><td>-1.2336767207969102</td><td>4611686018427387904</td><td>1</td><td>-217.35046</td><td>-343.33258</td></tr>\n",
       "<tr><td>4810</td><td>616088509857399494</td><td>9522</td><td>0</td><td>5400.0</td><td>9</td><td>522</td><td>POS</td><td>180.42577415102394</td><td>-1.22834812997347</td><td>4294967296</td><td>4</td><td>-209.42291</td><td>-341.6014</td></tr>\n",
       "<tr><td>4942</td><td>616088509857399361</td><td>9523</td><td>0</td><td>5400.0</td><td>9</td><td>523</td><td>POS</td><td>180.37736584835605</td><td>-1.2584058322005716</td><td>4294967296</td><td>4</td><td>-197.17358</td><td>-349.2406</td></tr>\n",
       "<tr><td>4944</td><td>616088509857399300</td><td>9524</td><td>0</td><td>5400.0</td><td>9</td><td>524</td><td>POS</td><td>180.3086467847272</td><td>-1.270194981011911</td><td>4294967296</td><td>4</td><td>-179.55328</td><td>-351.8112</td></tr>\n",
       "<tr><td>4909</td><td>1070083791126533</td><td>9525</td><td>0</td><td>5400.0</td><td>9</td><td>525</td><td>POS</td><td>180.30557043415737</td><td>-1.2846824174285396</td><td>4611686018427387904</td><td>1</td><td>-178.88358</td><td>-355.6949</td></tr>\n",
       "<tr><td>4900</td><td>-205306</td><td>9526</td><td>11</td><td>5400.0</td><td>9</td><td>526</td><td>POS</td><td>180.25498454399656</td><td>-1.3012749608924454</td><td>0</td><td>0</td><td>-166.01378</td><td>-359.76123</td></tr>\n",
       "</table>"
      ],
      "text/plain": [
       "<Table length=5020>\n",
       "FIBER      TARGETID      LOCATION ... FA_TYPE FIBERASSIGN_X FIBERASSIGN_Y\n",
       "int32       int64         int32   ...  uint8     float32       float32   \n",
       "----- ------------------ -------- ... ------- ------------- -------------\n",
       "  400  39627787740383529        0 ...       1    -1.1219269    -27.955801\n",
       "  449 616088540043805107        1 ...       4    -10.750432    -39.011635\n",
       "  420 616088540043805219        2 ...       4     3.1882598    -31.894894\n",
       "  401 616088540043804934        3 ...       4    -6.4706416     -47.19245\n",
       "  403 616088540043805042        4 ...       4    -1.0035245    -41.081795\n",
       "  427 616088540043804722        5 ...       4    -10.844077    -57.401737\n",
       "  412 616088540043804690        6 ...       4    -5.0569034    -59.244324\n",
       "  447 616088540043804836        7 ...       4      7.313174     -53.05743\n",
       "  437 616088534004007941        8 ...       4    -12.689592     -68.29744\n",
       "  431  39627781700586053        9 ...       1    -7.4678726    -65.092476\n",
       "  ...                ...      ... ...     ...           ...           ...\n",
       " 4917 616088509857399413     9512 ...       4    -164.70944    -346.10107\n",
       " 4848            -205298     9518 ...       0    -242.03601    -325.97513\n",
       " 4817 616088509861594027     9519 ...       4     -236.4457     -329.3924\n",
       " 4847 616088509857399629     9520 ...       4    -220.14592     -333.9994\n",
       " 4837  39627757553979218     9521 ...       1    -217.35046    -343.33258\n",
       " 4810 616088509857399494     9522 ...       4    -209.42291     -341.6014\n",
       " 4942 616088509857399361     9523 ...       4    -197.17358     -349.2406\n",
       " 4944 616088509857399300     9524 ...       4    -179.55328     -351.8112\n",
       " 4909   1070083791126533     9525 ...       1    -178.88358     -355.6949\n",
       " 4900            -205306     9526 ...       0    -166.01378    -359.76123"
      ]
     },
     "execution_count": 33,
     "metadata": {},
     "output_type": "execute_result"
    }
   ],
   "source": [
    "f = fits.open('/global/cscratch1/sd/mjwilson/altmtls/fba-000039.fits')\n",
    "Table(f[1].data)"
   ]
  },
  {
   "cell_type": "code",
   "execution_count": null,
   "id": "a78c0ab9-9aeb-49ac-8c00-c85c2cc14f69",
   "metadata": {},
   "outputs": [],
   "source": []
  }
 ],
 "metadata": {
  "kernelspec": {
   "display_name": "DESI 21.7e",
   "language": "python",
   "name": "desi-21.7e"
  },
  "language_info": {
   "codemirror_mode": {
    "name": "ipython",
    "version": 3
   },
   "file_extension": ".py",
   "mimetype": "text/x-python",
   "name": "python",
   "nbconvert_exporter": "python",
   "pygments_lexer": "ipython3",
   "version": "3.8.3"
  }
 },
 "nbformat": 4,
 "nbformat_minor": 5
}
