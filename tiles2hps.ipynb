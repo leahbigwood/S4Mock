{
 "cells": [
  {
   "cell_type": "code",
   "execution_count": 2,
   "id": "aece7ad9-ac4b-4765-9347-2e8922e1830f",
   "metadata": {},
   "outputs": [
    {
     "ename": "FileNotFoundError",
     "evalue": "[Errno 2] No such file or directory: '/global/cscratch1/sd/mjwilson/altmtl/original/000037-targ.fits'",
     "output_type": "error",
     "traceback": [
      "\u001b[0;31m---------------------------------------------------------------------------\u001b[0m",
      "\u001b[0;31mFileNotFoundError\u001b[0m                         Traceback (most recent call last)",
      "\u001b[0;32m<ipython-input-2-0f1905818153>\u001b[0m in \u001b[0;36m<module>\u001b[0;34m\u001b[0m\n\u001b[1;32m     42\u001b[0m \u001b[0;34m\u001b[0m\u001b[0m\n\u001b[1;32m     43\u001b[0m \u001b[0mtpath\u001b[0m \u001b[0;34m=\u001b[0m \u001b[0mroot\u001b[0m \u001b[0;34m+\u001b[0m \u001b[0;34m'/original/000037-targ.fits'\u001b[0m\u001b[0;34m\u001b[0m\u001b[0;34m\u001b[0m\u001b[0m\n\u001b[0;32m---> 44\u001b[0;31m \u001b[0mtarg\u001b[0m  \u001b[0;34m=\u001b[0m \u001b[0mTable\u001b[0m\u001b[0;34m.\u001b[0m\u001b[0mread\u001b[0m\u001b[0;34m(\u001b[0m\u001b[0mtpath\u001b[0m\u001b[0;34m)\u001b[0m\u001b[0;34m\u001b[0m\u001b[0;34m\u001b[0m\u001b[0m\n\u001b[0m\u001b[1;32m     45\u001b[0m \u001b[0;34m\u001b[0m\u001b[0m\n\u001b[1;32m     46\u001b[0m \u001b[0;32mfor\u001b[0m \u001b[0mx\u001b[0m \u001b[0;32min\u001b[0m \u001b[0msorted\u001b[0m\u001b[0;34m(\u001b[0m\u001b[0mtarg\u001b[0m\u001b[0;34m.\u001b[0m\u001b[0mdtype\u001b[0m\u001b[0;34m.\u001b[0m\u001b[0mnames\u001b[0m\u001b[0;34m)\u001b[0m\u001b[0;34m:\u001b[0m\u001b[0;34m\u001b[0m\u001b[0;34m\u001b[0m\u001b[0m\n",
      "\u001b[0;32m/global/common/software/desi/cori/desiconda/20200801-1.4.0-spec/conda/lib/python3.8/site-packages/astropy/table/connect.py\u001b[0m in \u001b[0;36m__call__\u001b[0;34m(self, *args, **kwargs)\u001b[0m\n\u001b[1;32m     50\u001b[0m     \u001b[0;32mdef\u001b[0m \u001b[0m__call__\u001b[0m\u001b[0;34m(\u001b[0m\u001b[0mself\u001b[0m\u001b[0;34m,\u001b[0m \u001b[0;34m*\u001b[0m\u001b[0margs\u001b[0m\u001b[0;34m,\u001b[0m \u001b[0;34m**\u001b[0m\u001b[0mkwargs\u001b[0m\u001b[0;34m)\u001b[0m\u001b[0;34m:\u001b[0m\u001b[0;34m\u001b[0m\u001b[0;34m\u001b[0m\u001b[0m\n\u001b[1;32m     51\u001b[0m         \u001b[0mcls\u001b[0m \u001b[0;34m=\u001b[0m \u001b[0mself\u001b[0m\u001b[0;34m.\u001b[0m\u001b[0m_cls\u001b[0m\u001b[0;34m\u001b[0m\u001b[0;34m\u001b[0m\u001b[0m\n\u001b[0;32m---> 52\u001b[0;31m         \u001b[0mout\u001b[0m \u001b[0;34m=\u001b[0m \u001b[0mregistry\u001b[0m\u001b[0;34m.\u001b[0m\u001b[0mread\u001b[0m\u001b[0;34m(\u001b[0m\u001b[0mcls\u001b[0m\u001b[0;34m,\u001b[0m \u001b[0;34m*\u001b[0m\u001b[0margs\u001b[0m\u001b[0;34m,\u001b[0m \u001b[0;34m**\u001b[0m\u001b[0mkwargs\u001b[0m\u001b[0;34m)\u001b[0m\u001b[0;34m\u001b[0m\u001b[0;34m\u001b[0m\u001b[0m\n\u001b[0m\u001b[1;32m     53\u001b[0m \u001b[0;34m\u001b[0m\u001b[0m\n\u001b[1;32m     54\u001b[0m         \u001b[0;31m# For some readers (e.g., ascii.ecsv), the returned `out` class is not\u001b[0m\u001b[0;34m\u001b[0m\u001b[0;34m\u001b[0m\u001b[0;34m\u001b[0m\u001b[0m\n",
      "\u001b[0;32m/global/common/software/desi/cori/desiconda/20200801-1.4.0-spec/conda/lib/python3.8/site-packages/astropy/io/registry.py\u001b[0m in \u001b[0;36mread\u001b[0;34m(cls, format, *args, **kwargs)\u001b[0m\n\u001b[1;32m    506\u001b[0m                     \u001b[0;32mtry\u001b[0m\u001b[0;34m:\u001b[0m\u001b[0;34m\u001b[0m\u001b[0;34m\u001b[0m\u001b[0m\n\u001b[1;32m    507\u001b[0m                         \u001b[0mctx\u001b[0m \u001b[0;34m=\u001b[0m \u001b[0mget_readable_fileobj\u001b[0m\u001b[0;34m(\u001b[0m\u001b[0margs\u001b[0m\u001b[0;34m[\u001b[0m\u001b[0;36m0\u001b[0m\u001b[0;34m]\u001b[0m\u001b[0;34m,\u001b[0m \u001b[0mencoding\u001b[0m\u001b[0;34m=\u001b[0m\u001b[0;34m'binary'\u001b[0m\u001b[0;34m)\u001b[0m\u001b[0;34m\u001b[0m\u001b[0;34m\u001b[0m\u001b[0m\n\u001b[0;32m--> 508\u001b[0;31m                         \u001b[0mfileobj\u001b[0m \u001b[0;34m=\u001b[0m \u001b[0mctx\u001b[0m\u001b[0;34m.\u001b[0m\u001b[0m__enter__\u001b[0m\u001b[0;34m(\u001b[0m\u001b[0;34m)\u001b[0m\u001b[0;34m\u001b[0m\u001b[0;34m\u001b[0m\u001b[0m\n\u001b[0m\u001b[1;32m    509\u001b[0m                     \u001b[0;32mexcept\u001b[0m \u001b[0mOSError\u001b[0m\u001b[0;34m:\u001b[0m\u001b[0;34m\u001b[0m\u001b[0;34m\u001b[0m\u001b[0m\n\u001b[1;32m    510\u001b[0m                         \u001b[0;32mraise\u001b[0m\u001b[0;34m\u001b[0m\u001b[0;34m\u001b[0m\u001b[0m\n",
      "\u001b[0;32m/global/common/software/desi/cori/desiconda/20200801-1.4.0-spec/conda/lib/python3.8/contextlib.py\u001b[0m in \u001b[0;36m__enter__\u001b[0;34m(self)\u001b[0m\n\u001b[1;32m    111\u001b[0m         \u001b[0;32mdel\u001b[0m \u001b[0mself\u001b[0m\u001b[0;34m.\u001b[0m\u001b[0margs\u001b[0m\u001b[0;34m,\u001b[0m \u001b[0mself\u001b[0m\u001b[0;34m.\u001b[0m\u001b[0mkwds\u001b[0m\u001b[0;34m,\u001b[0m \u001b[0mself\u001b[0m\u001b[0;34m.\u001b[0m\u001b[0mfunc\u001b[0m\u001b[0;34m\u001b[0m\u001b[0;34m\u001b[0m\u001b[0m\n\u001b[1;32m    112\u001b[0m         \u001b[0;32mtry\u001b[0m\u001b[0;34m:\u001b[0m\u001b[0;34m\u001b[0m\u001b[0;34m\u001b[0m\u001b[0m\n\u001b[0;32m--> 113\u001b[0;31m             \u001b[0;32mreturn\u001b[0m \u001b[0mnext\u001b[0m\u001b[0;34m(\u001b[0m\u001b[0mself\u001b[0m\u001b[0;34m.\u001b[0m\u001b[0mgen\u001b[0m\u001b[0;34m)\u001b[0m\u001b[0;34m\u001b[0m\u001b[0;34m\u001b[0m\u001b[0m\n\u001b[0m\u001b[1;32m    114\u001b[0m         \u001b[0;32mexcept\u001b[0m \u001b[0mStopIteration\u001b[0m\u001b[0;34m:\u001b[0m\u001b[0;34m\u001b[0m\u001b[0;34m\u001b[0m\u001b[0m\n\u001b[1;32m    115\u001b[0m             \u001b[0;32mraise\u001b[0m \u001b[0mRuntimeError\u001b[0m\u001b[0;34m(\u001b[0m\u001b[0;34m\"generator didn't yield\"\u001b[0m\u001b[0;34m)\u001b[0m \u001b[0;32mfrom\u001b[0m \u001b[0;32mNone\u001b[0m\u001b[0;34m\u001b[0m\u001b[0;34m\u001b[0m\u001b[0m\n",
      "\u001b[0;32m/global/common/software/desi/cori/desiconda/20200801-1.4.0-spec/conda/lib/python3.8/site-packages/astropy/utils/data.py\u001b[0m in \u001b[0;36mget_readable_fileobj\u001b[0;34m(name_or_obj, encoding, cache, show_progress, remote_timeout, sources, http_headers)\u001b[0m\n\u001b[1;32m    235\u001b[0m                 \u001b[0mtimeout\u001b[0m\u001b[0;34m=\u001b[0m\u001b[0mremote_timeout\u001b[0m\u001b[0;34m,\u001b[0m \u001b[0msources\u001b[0m\u001b[0;34m=\u001b[0m\u001b[0msources\u001b[0m\u001b[0;34m,\u001b[0m\u001b[0;34m\u001b[0m\u001b[0;34m\u001b[0m\u001b[0m\n\u001b[1;32m    236\u001b[0m                 http_headers=http_headers)\n\u001b[0;32m--> 237\u001b[0;31m         \u001b[0mfileobj\u001b[0m \u001b[0;34m=\u001b[0m \u001b[0mio\u001b[0m\u001b[0;34m.\u001b[0m\u001b[0mFileIO\u001b[0m\u001b[0;34m(\u001b[0m\u001b[0mname_or_obj\u001b[0m\u001b[0;34m,\u001b[0m \u001b[0;34m'r'\u001b[0m\u001b[0;34m)\u001b[0m\u001b[0;34m\u001b[0m\u001b[0;34m\u001b[0m\u001b[0m\n\u001b[0m\u001b[1;32m    238\u001b[0m         \u001b[0;32mif\u001b[0m \u001b[0mis_url\u001b[0m \u001b[0;32mand\u001b[0m \u001b[0;32mnot\u001b[0m \u001b[0mcache\u001b[0m\u001b[0;34m:\u001b[0m\u001b[0;34m\u001b[0m\u001b[0;34m\u001b[0m\u001b[0m\n\u001b[1;32m    239\u001b[0m             \u001b[0mdelete_fds\u001b[0m\u001b[0;34m.\u001b[0m\u001b[0mappend\u001b[0m\u001b[0;34m(\u001b[0m\u001b[0mfileobj\u001b[0m\u001b[0;34m)\u001b[0m\u001b[0;34m\u001b[0m\u001b[0;34m\u001b[0m\u001b[0m\n",
      "\u001b[0;31mFileNotFoundError\u001b[0m: [Errno 2] No such file or directory: '/global/cscratch1/sd/mjwilson/altmtl/original/000037-targ.fits'"
     ]
    }
   ],
   "source": [
    "import os\n",
    "\n",
    "from   astropy.table import Table\n",
    "from   desimodel.footprint import tiles2pix\n",
    "\n",
    "\n",
    "root  = '/global/cscratch1/sd/mjwilson' + '/altmtl'\n",
    "\n",
    "\n",
    "---- Get SV3 tiles and assign rosette ----\n",
    "                                                                                                                                                                                                 \n",
    "sv3_tiles = /global/cfs/cdirs/desi/survey/ops/surveyops/trunk/ops/tiles-sv3.ecsv                                                                                                                     \n",
    "sv3_tiles = sv3_tiles[sv3_tiles['PROGRAM'] == 'BRIGHT']                                                                                                                                              \n",
    "sv3_tiles                                                                                                                                                                                                                                                                                                                                                                                               \n",
    "                                                                                             \n",
    "ros       = tiles2rosette(sv3_tiles['TILEID'])                                                                                                                                                       \n",
    "----  Limit tiles to rosettes: G12: [1,2]; G15: [8,9,10, 17] ----\n",
    "\n",
    "\n",
    "                                                                                                                                                                                              \n",
    "----  For each tile remaining, calculating the pix list at the desitarget nside  ---- \n",
    "      pixarea2nside(7.) = 32? TBC.\n",
    " \n",
    "TILEID    RA     DEC   OBSCONDITIONS IN_DESI PROGRAM                                                                                                                                                 \n",
    "int32  float64 float64     int32      int16   bytes6                                                                                                                                                \n",
    "------ ------- ------- ------------- ------- -------                                                                                                                                                \n",
    "    37 179.481  -0.018            15       1     SV3                                                                                                                                                                                                                                                                                                                                                     \n",
    "dat = Table.read('000037-tiles.fits')                                                                                                                                                                                                                                                                                                                                                                    \n",
    "tiles2pix(32, tiles=dat, radius=None, per_tile=True, fact=2**7)                                                                                                                                     \n",
    "\n",
    "\n",
    "\n",
    "For every BGS Bright galaxy, assign a hp at the same nside.   By doing so, \n",
    "get a target list for each tile in the above rosettes.\n",
    "Limit to minimal columns:\n",
    "['RA', 'DEC', 'OBSCONDITIONS', 'SV3_DESI_TARGET', 'SV3_BGS_TARGET', 'SV3_MWS_TARGET', 'TARGETID', 'NUMOBS_MORE', 'PRIORITY', 'SUBPRIORITY']\n",
    "assigning modal values, as before. \n",
    "write to \n",
    "/global/cscratch1/sd/mjwilson/altmtl/targets/\n",
    "starting with one tile to check, with tileid 000037.\n",
    "'''\n",
    "\n",
    "tpath = root + '/original/000037-targ.fits'\n",
    "targ  = Table.read(tpath)\n",
    "\n",
    "for x in sorted(targ.dtype.names):\n",
    "    print(x)\n",
    "\n",
    "# Complete list of columns needed by fba_run (could be less still). \n",
    "# https://github.com/desihub/desitarget/blob/b3c58c89bbc5e07902154a0f0d890f62d4e29539/py/desitarget/io.py#L53\n",
    "min_cols = ['RA', 'DEC', 'OBSCONDITIONS', 'SV3_DESI_TARGET', 'SV3_BGS_TARGET', 'SV3_MWS_TARGET', 'TARGETID', 'NUMOBS_MORE', 'PRIORITY', 'SUBPRIORITY']\n",
    "targ     = targ[min_cols]\n",
    "targ.pprint()\n",
    "\n",
    "#targ.write(root + '/000037-targ.fits', format='fits', overwrite=True)\n",
    "\n",
    "print('Done.')"
   ]
  },
  {
   "cell_type": "code",
   "execution_count": 31,
   "id": "877cced8-fa25-4dd5-b5bd-4dfd5c06f6c8",
   "metadata": {},
   "outputs": [
    {
     "ename": "IndexError",
     "evalue": "only integers, slices (`:`), ellipsis (`...`), numpy.newaxis (`None`) and integer or boolean arrays are valid indices",
     "output_type": "error",
     "traceback": [
      "\u001b[0;31m---------------------------------------------------------------------------\u001b[0m",
      "\u001b[0;31mIndexError\u001b[0m                                Traceback (most recent call last)",
      "\u001b[0;32m<ipython-input-31-f060ddccfc7b>\u001b[0m in \u001b[0;36m<module>\u001b[0;34m\u001b[0m\n\u001b[1;32m     29\u001b[0m \u001b[0msv3_tiles\u001b[0m \u001b[0;34m=\u001b[0m \u001b[0msv3_tiles\u001b[0m\u001b[0;34m[\u001b[0m\u001b[0mros_mask\u001b[0m\u001b[0;34m]\u001b[0m\u001b[0;34m\u001b[0m\u001b[0;34m\u001b[0m\u001b[0m\n\u001b[1;32m     30\u001b[0m \u001b[0;34m\u001b[0m\u001b[0m\n\u001b[0;32m---> 31\u001b[0;31m \u001b[0mpixels\u001b[0m \u001b[0;34m=\u001b[0m \u001b[0mtiles2pix\u001b[0m\u001b[0;34m(\u001b[0m\u001b[0;36m32\u001b[0m\u001b[0;34m,\u001b[0m \u001b[0mtiles\u001b[0m\u001b[0;34m=\u001b[0m\u001b[0msv3_tiles\u001b[0m\u001b[0;34m[\u001b[0m\u001b[0;34m'TILEID'\u001b[0m\u001b[0;34m]\u001b[0m\u001b[0;34m,\u001b[0m \u001b[0mradius\u001b[0m\u001b[0;34m=\u001b[0m\u001b[0;32mNone\u001b[0m\u001b[0;34m,\u001b[0m \u001b[0mper_tile\u001b[0m\u001b[0;34m=\u001b[0m\u001b[0;32mTrue\u001b[0m\u001b[0;34m,\u001b[0m\u001b[0mfact\u001b[0m\u001b[0;34m=\u001b[0m\u001b[0;36m2\u001b[0m\u001b[0;34m**\u001b[0m\u001b[0;36m7\u001b[0m\u001b[0;34m)\u001b[0m\u001b[0;34m\u001b[0m\u001b[0;34m\u001b[0m\u001b[0m\n\u001b[0m",
      "\u001b[0;32m/global/common/software/desi/cori/desiconda/20200801-1.4.0-spec/code/desimodel/0.16.0/lib/python3.8/site-packages/desimodel/footprint.py\u001b[0m in \u001b[0;36mtiles2pix\u001b[0;34m(nside, tiles, radius, per_tile, fact)\u001b[0m\n\u001b[1;32m    134\u001b[0m         \u001b[0mradius\u001b[0m \u001b[0;34m=\u001b[0m \u001b[0mget_tile_radius_deg\u001b[0m\u001b[0;34m(\u001b[0m\u001b[0;34m)\u001b[0m\u001b[0;34m\u001b[0m\u001b[0;34m\u001b[0m\u001b[0m\n\u001b[1;32m    135\u001b[0m \u001b[0;34m\u001b[0m\u001b[0m\n\u001b[0;32m--> 136\u001b[0;31m     \u001b[0mtheta\u001b[0m\u001b[0;34m,\u001b[0m \u001b[0mphi\u001b[0m \u001b[0;34m=\u001b[0m \u001b[0mnp\u001b[0m\u001b[0;34m.\u001b[0m\u001b[0mradians\u001b[0m\u001b[0;34m(\u001b[0m\u001b[0;36m90\u001b[0m\u001b[0;34m-\u001b[0m\u001b[0mtiles\u001b[0m\u001b[0;34m[\u001b[0m\u001b[0;34m'DEC'\u001b[0m\u001b[0;34m]\u001b[0m\u001b[0;34m)\u001b[0m\u001b[0;34m,\u001b[0m \u001b[0mnp\u001b[0m\u001b[0;34m.\u001b[0m\u001b[0mradians\u001b[0m\u001b[0;34m(\u001b[0m\u001b[0mtiles\u001b[0m\u001b[0;34m[\u001b[0m\u001b[0;34m'RA'\u001b[0m\u001b[0;34m]\u001b[0m\u001b[0;34m)\u001b[0m\u001b[0;34m\u001b[0m\u001b[0;34m\u001b[0m\u001b[0m\n\u001b[0m\u001b[1;32m    137\u001b[0m     \u001b[0mvec\u001b[0m \u001b[0;34m=\u001b[0m \u001b[0mhp\u001b[0m\u001b[0;34m.\u001b[0m\u001b[0mang2vec\u001b[0m\u001b[0;34m(\u001b[0m\u001b[0mtheta\u001b[0m\u001b[0;34m,\u001b[0m \u001b[0mphi\u001b[0m\u001b[0;34m)\u001b[0m\u001b[0;34m\u001b[0m\u001b[0;34m\u001b[0m\u001b[0m\n\u001b[1;32m    138\u001b[0m     ipix = [hp.query_disc(nside, vec[i], radius=np.radians(radius),\n",
      "\u001b[0;32mastropy/table/_column_mixins.pyx\u001b[0m in \u001b[0;36mastropy.table._column_mixins._ColumnGetitemShim.__getitem__\u001b[0;34m()\u001b[0m\n",
      "\u001b[0;32mastropy/table/_column_mixins.pyx\u001b[0m in \u001b[0;36mastropy.table._column_mixins.base_getitem\u001b[0;34m()\u001b[0m\n",
      "\u001b[0;32mastropy/table/_column_mixins.pyx\u001b[0m in \u001b[0;36mastropy.table._column_mixins.column_getitem\u001b[0;34m()\u001b[0m\n",
      "\u001b[0;31mIndexError\u001b[0m: only integers, slices (`:`), ellipsis (`...`), numpy.newaxis (`None`) and integer or boolean arrays are valid indices"
     ]
    }
   ],
   "source": [
    "import numpy as np\n",
    "def tile2rosette(tile):\n",
    "    if tile < 433:\n",
    "        return (tile-1)//27\n",
    "    else:\n",
    "        if tile >= 433 and tile < 436:\n",
    "            return 13\n",
    "        if tile >= 436 and tile < 439:\n",
    "            return 14\n",
    "        if tile >= 439 and tile < 442:\n",
    "            return 15\n",
    "        if tile >= 442 and tile <=480:\n",
    "            return (tile-442)//3\n",
    "            \n",
    "        if tile > 480:\n",
    "            return tile//30    \n",
    "    return 999999 #shouldn't be any more?\n",
    "\n",
    "sv3_tiles = Table.read('/global/cfs/cdirs/desi/survey/ops/surveyops/trunk/ops/tiles-sv3.ecsv')                                                                                                                \n",
    "sv3_tiles = sv3_tiles[sv3_tiles['PROGRAM'] == 'BRIGHT']                                                                                                                                                                                                                                                                                                                                                                                                                                                                                                                                             \n",
    "                                                                                             \n",
    "ros = []\n",
    "for i in range(len(sv3_tiles['TILEID'])):\n",
    "    ros.append(tile2rosette(sv3_tiles['TILEID'][i]))\n",
    "ros = np.array(ros)\n",
    "\n",
    "ros_mask = np.in1d(ros, [1, 2, 8,9,10,17])\n",
    "\n",
    "sv3_tiles = sv3_tiles[ros_mask]\n",
    "\n",
    "pixels = tiles2pix(32, tiles=sv3_tiles['TILEID'], radius=None, per_tile=True,fact=2**7) "
   ]
  },
  {
   "cell_type": "code",
   "execution_count": 23,
   "id": "1b66b236-a8a5-4db9-8845-7225f9de1555",
   "metadata": {},
   "outputs": [
    {
     "data": {
      "text/html": [
       "<i>Table length=66</i>\n",
       "<table id=\"table46913227770224\" class=\"table-striped table-bordered table-condensed\">\n",
       "<thead><tr><th>TILEID</th><th>PASS</th><th>RA</th><th>DEC</th><th>PROGRAM</th><th>IN_DESI</th><th>PRIORITY</th><th>STATUS</th><th>EBV_MED</th><th>DESIGNHA</th><th>DONEFRAC</th><th>AVAILABLE</th></tr></thead>\n",
       "<thead><tr><th>int64</th><th>int32</th><th>float64</th><th>float64</th><th>str6</th><th>bool</th><th>float64</th><th>str8</th><th>float32</th><th>float32</th><th>float32</th><th>bool</th></tr></thead>\n",
       "<tr><td>39</td><td>0</td><td>179.599</td><td>0.12</td><td>BRIGHT</td><td>True</td><td>1.620e+00</td><td>done</td><td>0.02297556</td><td>0.00</td><td>0.9889</td><td>True</td></tr>\n",
       "<tr><td>40</td><td>1</td><td>179.51</td><td>-0.079</td><td>BRIGHT</td><td>True</td><td>1.458e+00</td><td>done</td><td>0.023208601</td><td>0.00</td><td>1.0560</td><td>True</td></tr>\n",
       "<tr><td>41</td><td>2</td><td>179.719</td><td>-0.016</td><td>BRIGHT</td><td>True</td><td>1.312e+00</td><td>done</td><td>0.023272948</td><td>0.00</td><td>1.1329</td><td>True</td></tr>\n",
       "<tr><td>42</td><td>3</td><td>179.49</td><td>0.049</td><td>BRIGHT</td><td>True</td><td>1.181e+00</td><td>done</td><td>0.022991067</td><td>0.00</td><td>1.1621</td><td>True</td></tr>\n",
       "<tr><td>43</td><td>4</td><td>179.635</td><td>-0.115</td><td>BRIGHT</td><td>True</td><td>1.063e+00</td><td>done</td><td>0.023390751</td><td>0.00</td><td>0.9846</td><td>True</td></tr>\n",
       "<tr><td>44</td><td>5</td><td>179.664</td><td>0.101</td><td>BRIGHT</td><td>True</td><td>9.566e-01</td><td>done</td><td>0.023026964</td><td>0.00</td><td>0.9841</td><td>True</td></tr>\n",
       "<tr><td>45</td><td>6</td><td>179.534</td><td>0.1</td><td>BRIGHT</td><td>True</td><td>7.972e-01</td><td>done</td><td>0.022917073</td><td>0.00</td><td>1.0469</td><td>True</td></tr>\n",
       "<tr><td>46</td><td>7</td><td>179.567</td><td>-0.115</td><td>BRIGHT</td><td>True</td><td>7.174e-01</td><td>done</td><td>0.023307735</td><td>0.00</td><td>1.0724</td><td>True</td></tr>\n",
       "<tr><td>47</td><td>8</td><td>179.709</td><td>0.051</td><td>BRIGHT</td><td>True</td><td>6.457e-01</td><td>done</td><td>0.023171157</td><td>0.00</td><td>1.3754</td><td>True</td></tr>\n",
       "<tr><td>48</td><td>9</td><td>179.481</td><td>-0.018</td><td>BRIGHT</td><td>True</td><td>5.811e-01</td><td>done</td><td>0.02307418</td><td>0.00</td><td>1.2300</td><td>True</td></tr>\n",
       "<tr><td>...</td><td>...</td><td>...</td><td>...</td><td>...</td><td>...</td><td>...</td><td>...</td><td>...</td><td>...</td><td>...</td><td>...</td></tr>\n",
       "<tr><td>526</td><td>1</td><td>212.709</td><td>-0.679</td><td>BRIGHT</td><td>True</td><td>0.000e+00</td><td>done</td><td>0.046235</td><td>7.47</td><td>1.2590</td><td>False</td></tr>\n",
       "<tr><td>527</td><td>2</td><td>212.919</td><td>-0.617</td><td>BRIGHT</td><td>True</td><td>0.000e+00</td><td>done</td><td>0.045334</td><td>14.11</td><td>1.1127</td><td>False</td></tr>\n",
       "<tr><td>528</td><td>3</td><td>212.691</td><td>-0.55</td><td>BRIGHT</td><td>True</td><td>0.000e+00</td><td>done</td><td>0.045407</td><td>5.84</td><td>1.0536</td><td>False</td></tr>\n",
       "<tr><td>529</td><td>4</td><td>212.834</td><td>-0.715</td><td>BRIGHT</td><td>True</td><td>0.000e+00</td><td>done</td><td>0.046141</td><td>11.29</td><td>0.9153</td><td>False</td></tr>\n",
       "<tr><td>530</td><td>5</td><td>212.865</td><td>-0.499</td><td>BRIGHT</td><td>True</td><td>0.000e+00</td><td>done</td><td>0.044732</td><td>13.30</td><td>0.9155</td><td>False</td></tr>\n",
       "<tr><td>531</td><td>6</td><td>212.735</td><td>-0.499</td><td>BRIGHT</td><td>True</td><td>0.000e+00</td><td>done</td><td>0.04475</td><td>5.65</td><td>1.5222</td><td>False</td></tr>\n",
       "<tr><td>532</td><td>7</td><td>212.766</td><td>-0.715</td><td>BRIGHT</td><td>True</td><td>0.000e+00</td><td>done</td><td>0.046541</td><td>10.88</td><td>1.1667</td><td>False</td></tr>\n",
       "<tr><td>533</td><td>8</td><td>212.909</td><td>-0.55</td><td>BRIGHT</td><td>True</td><td>0.000e+00</td><td>done</td><td>0.04502</td><td>14.18</td><td>1.4760</td><td>False</td></tr>\n",
       "<tr><td>534</td><td>9</td><td>212.681</td><td>-0.617</td><td>BRIGHT</td><td>True</td><td>0.000e+00</td><td>done</td><td>0.045875</td><td>5.96</td><td>1.3416</td><td>False</td></tr>\n",
       "<tr><td>535</td><td>10</td><td>212.891</td><td>-0.679</td><td>BRIGHT</td><td>True</td><td>3.766e-01</td><td>unobs</td><td>0.045825</td><td>13.24</td><td>0.0000</td><td>True</td></tr>\n",
       "</table>"
      ],
      "text/plain": [
       "<Table length=66>\n",
       "TILEID  PASS    RA     DEC   PROGRAM ...   EBV_MED   DESIGNHA DONEFRAC AVAILABLE\n",
       "int64  int32 float64 float64   str6  ...   float32   float32  float32     bool  \n",
       "------ ----- ------- ------- ------- ... ----------- -------- -------- ---------\n",
       "    39     0 179.599    0.12  BRIGHT ...  0.02297556     0.00   0.9889      True\n",
       "    40     1  179.51  -0.079  BRIGHT ... 0.023208601     0.00   1.0560      True\n",
       "    41     2 179.719  -0.016  BRIGHT ... 0.023272948     0.00   1.1329      True\n",
       "    42     3  179.49   0.049  BRIGHT ... 0.022991067     0.00   1.1621      True\n",
       "    43     4 179.635  -0.115  BRIGHT ... 0.023390751     0.00   0.9846      True\n",
       "    44     5 179.664   0.101  BRIGHT ... 0.023026964     0.00   0.9841      True\n",
       "    45     6 179.534     0.1  BRIGHT ... 0.022917073     0.00   1.0469      True\n",
       "    46     7 179.567  -0.115  BRIGHT ... 0.023307735     0.00   1.0724      True\n",
       "    47     8 179.709   0.051  BRIGHT ... 0.023171157     0.00   1.3754      True\n",
       "    48     9 179.481  -0.018  BRIGHT ...  0.02307418     0.00   1.2300      True\n",
       "   ...   ...     ...     ...     ... ...         ...      ...      ...       ...\n",
       "   526     1 212.709  -0.679  BRIGHT ...    0.046235     7.47   1.2590     False\n",
       "   527     2 212.919  -0.617  BRIGHT ...    0.045334    14.11   1.1127     False\n",
       "   528     3 212.691   -0.55  BRIGHT ...    0.045407     5.84   1.0536     False\n",
       "   529     4 212.834  -0.715  BRIGHT ...    0.046141    11.29   0.9153     False\n",
       "   530     5 212.865  -0.499  BRIGHT ...    0.044732    13.30   0.9155     False\n",
       "   531     6 212.735  -0.499  BRIGHT ...     0.04475     5.65   1.5222     False\n",
       "   532     7 212.766  -0.715  BRIGHT ...    0.046541    10.88   1.1667     False\n",
       "   533     8 212.909   -0.55  BRIGHT ...     0.04502    14.18   1.4760     False\n",
       "   534     9 212.681  -0.617  BRIGHT ...    0.045875     5.96   1.3416     False\n",
       "   535    10 212.891  -0.679  BRIGHT ...    0.045825    13.24   0.0000      True"
      ]
     },
     "execution_count": 23,
     "metadata": {},
     "output_type": "execute_result"
    }
   ],
   "source": [
    "sv3_tiles"
   ]
  },
  {
   "cell_type": "code",
   "execution_count": null,
   "id": "b6af6931-6b3c-41bd-8ab9-dd9639e0dfb8",
   "metadata": {},
   "outputs": [],
   "source": []
  }
 ],
 "metadata": {
  "kernelspec": {
   "display_name": "DESI 21.7e",
   "language": "python",
   "name": "desi-21.7e"
  },
  "language_info": {
   "codemirror_mode": {
    "name": "ipython",
    "version": 3
   },
   "file_extension": ".py",
   "mimetype": "text/x-python",
   "name": "python",
   "nbconvert_exporter": "python",
   "pygments_lexer": "ipython3",
   "version": "3.8.3"
  }
 },
 "nbformat": 4,
 "nbformat_minor": 5
}
