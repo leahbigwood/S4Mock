{
 "cells": [
  {
   "cell_type": "code",
   "execution_count": 33,
   "id": "877cced8-fa25-4dd5-b5bd-4dfd5c06f6c8",
   "metadata": {},
   "outputs": [],
   "source": [
    "import numpy as np\n",
    "import healpy as hp\n",
    "import math\n",
    "\n",
    "\n",
    "def tile2rosette(tile):\n",
    "    if tile < 433:\n",
    "        return (tile-1)//27\n",
    "    else:\n",
    "        if tile >= 433 and tile < 436:\n",
    "            return 13\n",
    "        if tile >= 436 and tile < 439:\n",
    "            return 14\n",
    "        if tile >= 439 and tile < 442:\n",
    "            return 15\n",
    "        if tile >= 442 and tile <=480:\n",
    "            return (tile-442)//3\n",
    "            \n",
    "        if tile > 480:\n",
    "            return tile//30    \n",
    "    return 999999 #shouldn't be any more?\n",
    "\n",
    "sv3_tiles = Table.read('/global/cfs/cdirs/desi/survey/ops/surveyops/trunk/ops/tiles-sv3.ecsv')                                                                                                                \n",
    "sv3_tiles = sv3_tiles[sv3_tiles['PROGRAM'] == 'BRIGHT']                                                                                                                                                                                                                                                                                                                                                                                                                                                                                                                                             \n",
    "                                                                                             \n",
    "ros = []\n",
    "for i in range(len(sv3_tiles['TILEID'])):\n",
    "    ros.append(tile2rosette(sv3_tiles['TILEID'][i]))\n",
    "ros = np.array(ros)\n",
    "\n",
    "ros_mask = np.in1d(ros, [1, 2, 8,9,10,17])\n",
    "\n",
    "sv3_tiles = sv3_tiles[ros_mask]\n",
    "\n",
    "theta = np.pi / 2. - np.radians(sv3_tiles['DEC'].data)\n",
    "phi = np.radians(sv3_tiles['RA'].data)\n",
    "\n",
    "nside=32\n",
    "\n",
    "#indices of pixels with non-zero density, unorganised list\n",
    "\n",
    "\n",
    "all_pixel_indices = hp.ang2pix(nside, theta, phi,nest=True, lonlat=False)"
   ]
  },
  {
   "cell_type": "code",
   "execution_count": 34,
   "id": "1b66b236-a8a5-4db9-8845-7225f9de1555",
   "metadata": {},
   "outputs": [
    {
     "data": {
      "text/plain": [
       "array([6741, 6741, 6741, 6741, 6741, 6741, 6741, 6741, 6741, 6741, 6741,\n",
       "       6569, 6569, 6569, 6569, 6569, 6569, 6569, 6569, 6569, 6569, 6569,\n",
       "       6488, 6488, 6488, 6488, 6488, 6488, 6488, 6488, 6488, 6488, 6488,\n",
       "       6483, 6483, 6483, 6483, 6483, 6483, 6483, 6483, 6483, 6483, 6483,\n",
       "       6494, 6494, 6494, 6494, 6494, 6494, 6494, 6494, 6494, 6494, 6494,\n",
       "       6501, 6501, 6501, 6501, 6501, 6501, 6501, 6501, 6501, 6501, 6501])"
      ]
     },
     "execution_count": 34,
     "metadata": {},
     "output_type": "execute_result"
    }
   ],
   "source": [
    "all_pixel_indices"
   ]
  },
  {
   "cell_type": "code",
   "execution_count": null,
   "id": "b6af6931-6b3c-41bd-8ab9-dd9639e0dfb8",
   "metadata": {},
   "outputs": [],
   "source": []
  }
 ],
 "metadata": {
  "kernelspec": {
   "display_name": "DESI 21.7e",
   "language": "python",
   "name": "desi-21.7e"
  },
  "language_info": {
   "codemirror_mode": {
    "name": "ipython",
    "version": 3
   },
   "file_extension": ".py",
   "mimetype": "text/x-python",
   "name": "python",
   "nbconvert_exporter": "python",
   "pygments_lexer": "ipython3",
   "version": "3.8.3"
  }
 },
 "nbformat": 4,
 "nbformat_minor": 5
}
