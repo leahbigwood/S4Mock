{
 "cells": [
  {
   "cell_type": "code",
   "execution_count": 4,
   "id": "1c42cafb-0068-4808-8909-ae41169a8ad8",
   "metadata": {},
   "outputs": [
    {
     "name": "stdout",
     "output_type": "stream",
     "text": [
      "The autoreload extension is already loaded. To reload it, use:\n",
      "  %reload_ext autoreload\n"
     ]
    }
   ],
   "source": [
    "%load_ext autoreload\n",
    "%autoreload 2"
   ]
  },
  {
   "cell_type": "code",
   "execution_count": 8,
   "id": "cbb15985-ae1b-4f73-9977-e4e78bfe4c13",
   "metadata": {},
   "outputs": [],
   "source": [
    "import io2\n",
    "import fitsio"
   ]
  },
  {
   "cell_type": "code",
   "execution_count": 25,
   "id": "cbaf7474-c13c-4169-8cc1-825388118e4a",
   "metadata": {},
   "outputs": [
    {
     "data": {
      "text/plain": [
       "array([], dtype=int64)"
      ]
     },
     "execution_count": 25,
     "metadata": {},
     "output_type": "execute_result"
    }
   ],
   "source": [
    "np.arange(1,1)"
   ]
  },
  {
   "cell_type": "code",
   "execution_count": 14,
   "id": "19f70156-7843-4fc2-8c0f-d0055c6cbd34",
   "metadata": {},
   "outputs": [
    {
     "name": "stdout",
     "output_type": "stream",
     "text": [
      "Runtime of 0.618861 seconds after 0 pixels\n",
      "Runtime of 37.141442 seconds after 100 pixels\n",
      "\n",
      "\n",
      "Total runtime of 140.436009 seconds after 200000 pixels\n"
     ]
    },
    {
     "data": {
      "text/html": [
       "<i>Table length=2210617</i>\n",
       "<table id=\"table46913686085296\" class=\"table-striped table-bordered table-condensed\">\n",
       "<thead><tr><th>RA</th><th>DEC</th><th>REF_EPOCH</th><th>PARALLAX</th><th>PMRA</th><th>PMDEC</th><th>TARGETID</th><th>SV3_DESI_TARGET</th><th>SV3_BGS_TARGET</th><th>SV3_MWS_TARGET</th><th>SUBPRIORITY</th><th>OBSCONDITIONS</th><th>PRIORITY_INIT</th><th>NUMOBS_INIT</th><th>SV3_SCND_TARGET</th><th>NUMOBS_MORE</th><th>NUMOBS</th><th>Z</th><th>ZWARN</th><th>ZTILEID</th><th>TARGET_STATE</th><th>TIMESTAMP</th><th>VERSION</th><th>PRIORITY</th></tr></thead>\n",
       "<thead><tr><th>float64</th><th>float64</th><th>float64</th><th>float64</th><th>float64</th><th>float64</th><th>int64</th><th>int64</th><th>int64</th><th>int64</th><th>float64</th><th>int64</th><th>int64</th><th>int64</th><th>int64</th><th>int64</th><th>int64</th><th>float64</th><th>int64</th><th>int64</th><th>str30</th><th>str19</th><th>str6</th><th>int64</th></tr></thead>\n",
       "<tr><td>217.73608243261785</td><td>31.624176941716932</td><td>2015.5</td><td>0.6340720999999999</td><td>-3.4084375</td><td>-4.2615894999999995</td><td>39628512469979585</td><td>2305843009213693952</td><td>0</td><td>10240</td><td>0.8728752434659032</td><td>516</td><td>101500</td><td>9</td><td>0</td><td>9</td><td>0</td><td>-1.0</td><td>-1</td><td>-1</td><td>MWS|UNOBS</td><td>2021-04-04T23:05:09</td><td>0.57.0</td><td>101500</td></tr>\n",
       "<tr><td>217.7643959898741</td><td>31.60836254987005</td><td>0.0</td><td>0.0</td><td>0.0</td><td>0.0</td><td>39628512474169502</td><td>1152921504606846976</td><td>65545</td><td>0</td><td>0.5071972495832677</td><td>516</td><td>102100</td><td>9</td><td>0</td><td>9</td><td>0</td><td>-1.0</td><td>-1</td><td>-1</td><td>BGS|UNOBS</td><td>2021-04-04T23:05:09</td><td>0.57.0</td><td>102100</td></tr>\n",
       "<tr><td>217.77159685491745</td><td>31.624485717360052</td><td>0.0</td><td>0.0</td><td>0.0</td><td>0.0</td><td>39628512474169617</td><td>1152921504606846976</td><td>131074</td><td>0</td><td>0.2921555185298247</td><td>516</td><td>102100</td><td>9</td><td>0</td><td>9</td><td>0</td><td>-1.0</td><td>-1</td><td>-1</td><td>BGS|UNOBS</td><td>2021-04-04T23:05:09</td><td>0.57.0</td><td>102100</td></tr>\n",
       "<tr><td>217.78100706334567</td><td>31.599874496642013</td><td>0.0</td><td>0.0</td><td>0.0</td><td>0.0</td><td>39628512474169765</td><td>1152921504606846976</td><td>131074</td><td>0</td><td>0.4694947888187566</td><td>516</td><td>102100</td><td>9</td><td>0</td><td>9</td><td>0</td><td>-1.0</td><td>-1</td><td>-1</td><td>BGS|UNOBS</td><td>2021-04-04T23:05:09</td><td>0.57.0</td><td>102100</td></tr>\n",
       "<tr><td>217.80558526978734</td><td>31.60222692704033</td><td>0.0</td><td>0.0</td><td>0.0</td><td>0.0</td><td>39628512474170159</td><td>1152921504606846976</td><td>131074</td><td>0</td><td>0.7826275278104561</td><td>516</td><td>102100</td><td>9</td><td>0</td><td>9</td><td>0</td><td>-1.0</td><td>-1</td><td>-1</td><td>BGS|UNOBS</td><td>2021-04-04T23:05:09</td><td>0.57.0</td><td>102100</td></tr>\n",
       "<tr><td>217.8103421576112</td><td>31.554488743491632</td><td>2015.5</td><td>0.16359553</td><td>-4.7480626</td><td>-6.9652095</td><td>39628512474170233</td><td>2305843009213693952</td><td>0</td><td>1280</td><td>0.4274339386921536</td><td>516</td><td>101500</td><td>9</td><td>0</td><td>9</td><td>0</td><td>-1.0</td><td>-1</td><td>-1</td><td>MWS|UNOBS</td><td>2021-04-04T23:05:09</td><td>0.57.0</td><td>101500</td></tr>\n",
       "<tr><td>217.82194708840703</td><td>31.615377277700716</td><td>2015.5</td><td>0.255832</td><td>-9.186272</td><td>-12.39891</td><td>39628512474170438</td><td>2305843009213693952</td><td>0</td><td>1280</td><td>0.3602902877765175</td><td>516</td><td>101500</td><td>9</td><td>0</td><td>9</td><td>0</td><td>-1.0</td><td>-1</td><td>-1</td><td>MWS|UNOBS</td><td>2021-04-04T23:05:09</td><td>0.57.0</td><td>101500</td></tr>\n",
       "<tr><td>217.82234511365533</td><td>31.597234576462625</td><td>0.0</td><td>0.0</td><td>0.0</td><td>0.0</td><td>39628512474170447</td><td>1152921504606846976</td><td>65537</td><td>0</td><td>0.004233600803935311</td><td>516</td><td>102000</td><td>9</td><td>0</td><td>9</td><td>0</td><td>-1.0</td><td>-1</td><td>-1</td><td>BGS|UNOBS</td><td>2021-04-04T23:05:09</td><td>0.57.0</td><td>102000</td></tr>\n",
       "<tr><td>217.8272284402104</td><td>31.597958179306715</td><td>2015.5</td><td>0.74348295</td><td>1.6292666999999998</td><td>-6.5125165</td><td>39628512474170522</td><td>2305843009213693952</td><td>0</td><td>10240</td><td>0.8486690509276421</td><td>516</td><td>101500</td><td>9</td><td>0</td><td>9</td><td>0</td><td>-1.0</td><td>-1</td><td>-1</td><td>MWS|UNOBS</td><td>2021-04-04T23:05:09</td><td>0.57.0</td><td>101500</td></tr>\n",
       "<tr><td>217.82813158663413</td><td>31.585853133541807</td><td>0.0</td><td>0.0</td><td>0.0</td><td>0.0</td><td>39628512474170537</td><td>1152921504606846976</td><td>65537</td><td>0</td><td>0.4398256991290874</td><td>516</td><td>102000</td><td>9</td><td>0</td><td>9</td><td>0</td><td>-1.0</td><td>-1</td><td>-1</td><td>BGS|UNOBS</td><td>2021-04-04T23:05:09</td><td>0.57.0</td><td>102000</td></tr>\n",
       "<tr><td>...</td><td>...</td><td>...</td><td>...</td><td>...</td><td>...</td><td>...</td><td>...</td><td>...</td><td>...</td><td>...</td><td>...</td><td>...</td><td>...</td><td>...</td><td>...</td><td>...</td><td>...</td><td>...</td><td>...</td><td>...</td><td>...</td><td>...</td><td>...</td></tr>\n",
       "<tr><td>192.9306662915855</td><td>28.330505073984032</td><td>0.0</td><td>0.0</td><td>0.0</td><td>0.0</td><td>39628443922468484</td><td>1152921504606846976</td><td>65537</td><td>0</td><td>0.9383486972811356</td><td>516</td><td>102000</td><td>3</td><td>0</td><td>0</td><td>3</td><td>0.09808621666453016</td><td>0</td><td>129</td><td>BGS|DONE</td><td>2021-05-10T19:08:56</td><td>0.57.1</td><td>2</td></tr>\n",
       "<tr><td>192.95631618466442</td><td>28.330724691799453</td><td>0.0</td><td>0.0</td><td>0.0</td><td>0.0</td><td>39628443922468934</td><td>1152921504606846976</td><td>65545</td><td>0</td><td>0.9588190781137584</td><td>516</td><td>102100</td><td>3</td><td>0</td><td>0</td><td>3</td><td>0.3768655466468796</td><td>0</td><td>129</td><td>BGS|DONE</td><td>2021-05-10T19:08:56</td><td>0.57.1</td><td>2</td></tr>\n",
       "<tr><td>192.97398353791672</td><td>28.24465229452284</td><td>2015.5</td><td>1.68260539</td><td>-31.16580582</td><td>-0.77796197</td><td>39628443922469265</td><td>2305843009213693952</td><td>0</td><td>33</td><td>0.3857207359902983</td><td>516</td><td>101400</td><td>3</td><td>0</td><td>0</td><td>2</td><td>7.498582425643448e-05</td><td>0</td><td>129</td><td>MWS|MORE_ZGOOD</td><td>2021-05-10T19:08:56</td><td>0.57.1</td><td>2</td></tr>\n",
       "<tr><td>192.97795237565398</td><td>28.138250573598214</td><td>0.0</td><td>0.0</td><td>0.0</td><td>0.0</td><td>39628443922469337</td><td>1152921504606846976</td><td>131074</td><td>0</td><td>0.17099286332857044</td><td>516</td><td>102100</td><td>3</td><td>0</td><td>0</td><td>1</td><td>0.26066860609150977</td><td>0</td><td>129</td><td>BGS|MORE_ZGOOD</td><td>2021-05-10T19:08:56</td><td>0.57.1</td><td>2</td></tr>\n",
       "<tr><td>193.02064861440937</td><td>28.24542429338563</td><td>0.0</td><td>0.0</td><td>0.0</td><td>0.0</td><td>39628443922470135</td><td>1152921504609009673</td><td>131074</td><td>0</td><td>0.8063580879212997</td><td>517</td><td>102100</td><td>3</td><td>0</td><td>0</td><td>2</td><td>0.3255569316256524</td><td>0</td><td>129</td><td>BGS|MORE_ZGOOD</td><td>2021-05-10T19:08:56</td><td>0.57.1</td><td>2</td></tr>\n",
       "<tr><td>193.04068871130855</td><td>28.213120298612147</td><td>2015.5</td><td>0.0</td><td>0.0</td><td>0.0</td><td>39628443926659133</td><td>1152921504606846976</td><td>65537</td><td>0</td><td>0.21757113762330105</td><td>516</td><td>102000</td><td>3</td><td>0</td><td>0</td><td>1</td><td>0.1571192891855521</td><td>0</td><td>129</td><td>BGS|MORE_ZGOOD</td><td>2021-05-10T19:08:56</td><td>0.57.1</td><td>2</td></tr>\n",
       "<tr><td>193.0555180660019</td><td>28.127817913419623</td><td>2015.5</td><td>0.36478734</td><td>-11.2838068</td><td>-8.90375996</td><td>39628443926659408</td><td>2305843009213693952</td><td>0</td><td>1280</td><td>0.5793146226371685</td><td>516</td><td>101500</td><td>3</td><td>0</td><td>0</td><td>2</td><td>0.0002199274992863006</td><td>0</td><td>129</td><td>MWS|MORE_ZGOOD</td><td>2021-05-10T19:08:56</td><td>0.57.1</td><td>2</td></tr>\n",
       "<tr><td>193.14541793411885</td><td>28.15544829145687</td><td>2015.5</td><td>0.33874267</td><td>-8.73880005</td><td>-3.48152661</td><td>39628443926660907</td><td>2305843009213693952</td><td>0</td><td>33</td><td>0.9934468057848924</td><td>516</td><td>101400</td><td>3</td><td>0</td><td>0</td><td>1</td><td>-1.5633311564382e-05</td><td>0</td><td>129</td><td>MWS|MORE_ZGOOD</td><td>2021-05-10T19:08:56</td><td>0.57.1</td><td>2</td></tr>\n",
       "<tr><td>193.1610358054977</td><td>28.131302046315856</td><td>2015.5</td><td>2.46656799</td><td>-54.3821373</td><td>26.74188614</td><td>39628443926661185</td><td>2305843009213693952</td><td>0</td><td>33</td><td>0.24698456707468674</td><td>516</td><td>101400</td><td>3</td><td>0</td><td>0</td><td>2</td><td>-5.084923852588218e-05</td><td>0</td><td>129</td><td>MWS|MORE_ZGOOD</td><td>2021-05-10T19:08:56</td><td>0.57.1</td><td>2</td></tr>\n",
       "<tr><td>192.81395033823986</td><td>28.42117764154469</td><td>0.0</td><td>0.0</td><td>0.0</td><td>0.0</td><td>39628449245037359</td><td>1152921504609009673</td><td>131074</td><td>0</td><td>0.9417541563013612</td><td>517</td><td>102100</td><td>3</td><td>0</td><td>0</td><td>1</td><td>0.4090740330338288</td><td>0</td><td>129</td><td>BGS|MORE_ZGOOD</td><td>2021-05-10T19:08:56</td><td>0.57.1</td><td>2</td></tr>\n",
       "</table>"
      ],
      "text/plain": [
       "<Table length=2210617>\n",
       "        RA                DEC         REF_EPOCH ... VERSION PRIORITY\n",
       "     float64            float64        float64  ...   str6   int64  \n",
       "------------------ ------------------ --------- ... ------- --------\n",
       "217.73608243261785 31.624176941716932    2015.5 ...  0.57.0   101500\n",
       " 217.7643959898741  31.60836254987005       0.0 ...  0.57.0   102100\n",
       "217.77159685491745 31.624485717360052       0.0 ...  0.57.0   102100\n",
       "217.78100706334567 31.599874496642013       0.0 ...  0.57.0   102100\n",
       "217.80558526978734  31.60222692704033       0.0 ...  0.57.0   102100\n",
       " 217.8103421576112 31.554488743491632    2015.5 ...  0.57.0   101500\n",
       "217.82194708840703 31.615377277700716    2015.5 ...  0.57.0   101500\n",
       "217.82234511365533 31.597234576462625       0.0 ...  0.57.0   102000\n",
       " 217.8272284402104 31.597958179306715    2015.5 ...  0.57.0   101500\n",
       "217.82813158663413 31.585853133541807       0.0 ...  0.57.0   102000\n",
       "               ...                ...       ... ...     ...      ...\n",
       " 192.9306662915855 28.330505073984032       0.0 ...  0.57.1        2\n",
       "192.95631618466442 28.330724691799453       0.0 ...  0.57.1        2\n",
       "192.97398353791672  28.24465229452284    2015.5 ...  0.57.1        2\n",
       "192.97795237565398 28.138250573598214       0.0 ...  0.57.1        2\n",
       "193.02064861440937  28.24542429338563       0.0 ...  0.57.1        2\n",
       "193.04068871130855 28.213120298612147    2015.5 ...  0.57.1        2\n",
       " 193.0555180660019 28.127817913419623    2015.5 ...  0.57.1        2\n",
       "193.14541793411885  28.15544829145687    2015.5 ...  0.57.1        2\n",
       " 193.1610358054977 28.131302046315856    2015.5 ...  0.57.1        2\n",
       "192.81395033823986  28.42117764154469       0.0 ...  0.57.1        2"
      ]
     },
     "execution_count": 14,
     "metadata": {},
     "output_type": "execute_result"
    }
   ],
   "source": [
    "io2.read_sv3_ledgers()"
   ]
  },
  {
   "cell_type": "code",
   "execution_count": 21,
   "id": "0c5fcd5c-1a1c-4153-b3af-479d06dc1826",
   "metadata": {},
   "outputs": [],
   "source": [
    "from geometry import rand_inrect"
   ]
  },
  {
   "cell_type": "code",
   "execution_count": 23,
   "id": "0a341276-0ec9-482c-86cf-93d23cb59965",
   "metadata": {},
   "outputs": [
    {
     "data": {
      "text/plain": [
       "array([ 550,  551,  554,  555,  556,  557,  558,  559,  568,  570,  571,\n",
       "        574,  640,  641,  642,  643,  644,  645,  646,  647,  649,  652,\n",
       "        653,  655,  656,  657,  658,  664, 5077])"
      ]
     },
     "execution_count": 23,
     "metadata": {},
     "output_type": "execute_result"
    }
   ],
   "source": [
    "rand_inrect(10,20,30,40)"
   ]
  },
  {
   "cell_type": "code",
   "execution_count": null,
   "id": "ba19f602-4101-4475-ab46-f2955a3f3011",
   "metadata": {},
   "outputs": [
    {
     "name": "stdout",
     "output_type": "stream",
     "text": [
      "['/global/cfs/cdirs/desi/target/catalogs/dr9/0.49.0/randoms/resolve/randoms-1-0.fits']\n"
     ]
    }
   ],
   "source": [
    "ns = np.arange(1)\n",
    "\n",
    "from astropy.io import fits as fits\n",
    "from astropy.table import vstack, Table\n",
    "\n",
    "fpaths = [f'/global/cfs/cdirs/desi/target/catalogs/dr9/0.49.0/randoms/resolve/randoms-{nn+1}-0.fits' for nn in ns]\n",
    "\n",
    "print(fpaths)\n",
    "\n",
    "rand = vstack([Table(fits.open(x)[1].data) for x in fpaths])\n",
    "\n"
   ]
  },
  {
   "cell_type": "code",
   "execution_count": 8,
   "id": "c3b47fb1-7906-4751-9172-d87eca1868e3",
   "metadata": {},
   "outputs": [],
   "source": [
    "import fitsio\n",
    "import numpy as np"
   ]
  },
  {
   "cell_type": "code",
   "execution_count": 3,
   "id": "6e2ece4f-62f1-4c04-be56-87092931174c",
   "metadata": {},
   "outputs": [],
   "source": [
    "x = fitsio.read('/global/cfs/cdirs/desi/target/catalogs/dr9/0.49.0/randoms/resolve/randoms-1-0.fits', rows=[35,1001])"
   ]
  },
  {
   "cell_type": "code",
   "execution_count": 5,
   "id": "36998bfa-3838-47c1-a2e0-0f891458cdf6",
   "metadata": {},
   "outputs": [],
   "source": [
    "min_cols = ['RA' , 'DEC', 'MASKBITS', 'NOBS_G', 'NOBS_R', 'NOBS_Z']"
   ]
  },
  {
   "cell_type": "code",
   "execution_count": 6,
   "id": "eb1d9d1e-ad76-49ab-93f4-9da59bf8272c",
   "metadata": {},
   "outputs": [],
   "source": [
    "x = fitsio.read('/global/cfs/cdirs/desi/target/catalogs/dr9/0.49.0/randoms/resolve/randoms-1-0.fits', rows=[35,1001], columns=min_cols)"
   ]
  },
  {
   "cell_type": "code",
   "execution_count": 15,
   "id": "b500a3bf-c89e-4ae4-92cb-892a27d20223",
   "metadata": {},
   "outputs": [],
   "source": [
    "ns = np.arange(1, 4, 1)"
   ]
  },
  {
   "cell_type": "code",
   "execution_count": 16,
   "id": "4372da3b-676a-457a-a6d4-247d35c7d15e",
   "metadata": {},
   "outputs": [
    {
     "data": {
      "text/plain": [
       "array([(209.58150787,  10.78512419, 3, 2, 3, 0),\n",
       "       (215.60268652,  69.45860903, 2, 2, 6, 0),\n",
       "       ( 30.72798451,   6.81434513, 4, 4, 4, 0),\n",
       "       (176.77195729,  24.10674449, 4, 4, 5, 0),\n",
       "       (323.36573707, -54.60272653, 8, 6, 4, 0),\n",
       "       ( 16.16873203,  24.33070233, 4, 4, 4, 0)],\n",
       "      dtype=[('RA', '>f8'), ('DEC', '>f8'), ('NOBS_G', '>i2'), ('NOBS_R', '>i2'), ('NOBS_Z', '>i2'), ('MASKBITS', '>i2')])"
      ]
     },
     "execution_count": 16,
     "metadata": {},
     "output_type": "execute_result"
    }
   ],
   "source": [
    "np.hstack([fitsio.read(f'/global/cfs/cdirs/desi/target/catalogs/dr9/0.49.0/randoms/resolve/randoms-{nn}-0.fits', rows=[35,1001], columns=min_cols) for nn in ns])"
   ]
  },
  {
   "cell_type": "code",
   "execution_count": 17,
   "id": "fe19397a-9311-436a-894e-7181492b36ef",
   "metadata": {},
   "outputs": [],
   "source": [
    "def read_desitargetrandoms(number=1):\n",
    "    ns = np.arange(1, number+1, 1)\n",
    "    \n",
    "    min_cols = ['RA' , 'DEC', 'MASKBITS', 'NOBS_G', 'NOBS_R', 'NOBS_Z']\n",
    "    \n",
    "    return np.hstack([fitsio.read(f'/global/cfs/cdirs/desi/target/catalogs/dr9/0.49.0/randoms/resolve/randoms-{nn}-0.fits', columns=min_cols) for nn in ns])\n",
    "    "
   ]
  },
  {
   "cell_type": "code",
   "execution_count": null,
   "id": "55a94de6-7221-4a21-86ed-fd55122ad9fc",
   "metadata": {},
   "outputs": [],
   "source": []
  },
  {
   "cell_type": "code",
   "execution_count": 18,
   "id": "86666644-1b7c-43f4-b530-0911ef13e214",
   "metadata": {},
   "outputs": [
    {
     "ename": "NameError",
     "evalue": "name 'rand' is not defined",
     "output_type": "error",
     "traceback": [
      "\u001b[0;31m---------------------------------------------------------------------------\u001b[0m",
      "\u001b[0;31mNameError\u001b[0m                                 Traceback (most recent call last)",
      "\u001b[0;32m<ipython-input-18-db086d734317>\u001b[0m in \u001b[0;36m<module>\u001b[0;34m\u001b[0m\n\u001b[0;32m----> 1\u001b[0;31m \u001b[0mread_desitargetrandoms\u001b[0m\u001b[0;34m(\u001b[0m\u001b[0mnumber\u001b[0m\u001b[0;34m=\u001b[0m\u001b[0;36m1\u001b[0m\u001b[0;34m)\u001b[0m\u001b[0;34m\u001b[0m\u001b[0;34m\u001b[0m\u001b[0m\n\u001b[0m",
      "\u001b[0;32m<ipython-input-17-5782dc7c3d05>\u001b[0m in \u001b[0;36mread_desitargetrandoms\u001b[0;34m(number)\u001b[0m\n\u001b[1;32m      5\u001b[0m \u001b[0;34m\u001b[0m\u001b[0m\n\u001b[1;32m      6\u001b[0m     \u001b[0mnp\u001b[0m\u001b[0;34m.\u001b[0m\u001b[0mhstack\u001b[0m\u001b[0;34m(\u001b[0m\u001b[0;34m[\u001b[0m\u001b[0mfitsio\u001b[0m\u001b[0;34m.\u001b[0m\u001b[0mread\u001b[0m\u001b[0;34m(\u001b[0m\u001b[0;34mf'/global/cfs/cdirs/desi/target/catalogs/dr9/0.49.0/randoms/resolve/randoms-{nn}-0.fits'\u001b[0m\u001b[0;34m,\u001b[0m \u001b[0mcolumns\u001b[0m\u001b[0;34m=\u001b[0m\u001b[0mmin_cols\u001b[0m\u001b[0;34m)\u001b[0m \u001b[0;32mfor\u001b[0m \u001b[0mnn\u001b[0m \u001b[0;32min\u001b[0m \u001b[0mns\u001b[0m\u001b[0;34m]\u001b[0m\u001b[0;34m)\u001b[0m\u001b[0;34m\u001b[0m\u001b[0;34m\u001b[0m\u001b[0m\n\u001b[0;32m----> 7\u001b[0;31m     \u001b[0;32mreturn\u001b[0m \u001b[0mrand\u001b[0m\u001b[0;34m\u001b[0m\u001b[0;34m\u001b[0m\u001b[0m\n\u001b[0m",
      "\u001b[0;31mNameError\u001b[0m: name 'rand' is not defined"
     ]
    }
   ],
   "source": [
    "read_desitargetrandoms(number=1)"
   ]
  },
  {
   "cell_type": "code",
   "execution_count": null,
   "id": "cf446b2a-ad75-48eb-92b9-cc4428d104d8",
   "metadata": {},
   "outputs": [],
   "source": []
  }
 ],
 "metadata": {
  "kernelspec": {
   "display_name": "DESI 21.7e",
   "language": "python",
   "name": "desi-21.7e"
  },
  "language_info": {
   "codemirror_mode": {
    "name": "ipython",
    "version": 3
   },
   "file_extension": ".py",
   "mimetype": "text/x-python",
   "name": "python",
   "nbconvert_exporter": "python",
   "pygments_lexer": "ipython3",
   "version": "3.8.3"
  }
 },
 "nbformat": 4,
 "nbformat_minor": 5
}
