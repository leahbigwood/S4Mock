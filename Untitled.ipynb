{
 "cells": [
  {
   "cell_type": "code",
   "execution_count": 5,
   "id": "f66e2fa4-6db5-43f8-8830-4a6b4617f636",
   "metadata": {},
   "outputs": [
    {
     "name": "stdout",
     "output_type": "stream",
     "text": [
      "The autoreload extension is already loaded. To reload it, use:\n",
      "  %reload_ext autoreload\n"
     ]
    }
   ],
   "source": [
    "%load_ext autoreload\n",
    "%autoreload 2\n",
    "\n"
   ]
  },
  {
   "cell_type": "code",
   "execution_count": 9,
   "id": "dd38dddc-a6d9-4ded-8597-e9aea48bc678",
   "metadata": {},
   "outputs": [
    {
     "name": "stderr",
     "output_type": "stream",
     "text": [
      "In gridlink_double> Running with [nmesh_x, nmesh_y, nmesh_z]  = 41,41,41.  Time taken =   0.069 sec\n",
      "0%.........10%.........20%.........30%.........40%.........50%.........60%.........70%.........80%.........90%.........100% done. Time taken =  0.881 secs\n",
      "ND1 =      1235904 [xmin,ymin,zmin] = [0.000400,0.000100,0.000300], [xmax,ymax,zmax] = [419.999817,419.999512,419.999207]\n",
      "ND2 =      3707712 [xmin,ymin,zmin] = [0.000135,0.000100,0.000110], [xmax,ymax,zmax] = [419.999985,419.999821,419.999904]\n",
      "In gridlink_double> Running with [nmesh_x, nmesh_y, nmesh_z]  = 41,41,41.  Time taken =   0.058 sec\n",
      "In gridlink_double> Running with [nmesh_x, nmesh_y, nmesh_z]  = 41,41,41.  Time taken =   0.559 sec\n",
      "0%.........10%.........20%.........30%.........40%.........50%.........60%.........70%.........80%.........90%.........100% done. Time taken =  3.108 secs\n",
      "In gridlink_double> Running with [nmesh_x, nmesh_y, nmesh_z]  = 41,41,41.  Time taken =   0.526 sec\n",
      "0%.........10%.........20%.........30%.........40%.........50%.........60%.........70%.........80%.........90%.........100% done. Time taken =  4.131 secs\n"
     ]
    }
   ],
   "source": [
    "import Corrfunc"
   ]
  },
  {
   "cell_type": "code",
   "execution_count": 3,
   "id": "2a33255e-e977-4ba7-b9ad-c341ede21a11",
   "metadata": {},
   "outputs": [
    {
     "name": "stdout",
     "output_type": "stream",
     "text": [
      "2\n"
     ]
    }
   ],
   "source": [
    "import test_corr"
   ]
  },
  {
   "cell_type": "code",
   "execution_count": null,
   "id": "c0118cf4-0666-4ce9-ada3-2aacf2ff5679",
   "metadata": {},
   "outputs": [],
   "source": [
    "test_corr.function()"
   ]
  },
  {
   "cell_type": "code",
   "execution_count": null,
   "id": "44764ebb-17f4-4142-ae97-e2f506a9578d",
   "metadata": {},
   "outputs": [],
   "source": [
    "sys.path.append('/path/to/dir') # $PATH; #$PYTHON_PATH.  modules, packages, library."
   ]
  }
 ],
 "metadata": {
  "kernelspec": {
   "display_name": "DESI 21.7e",
   "language": "python",
   "name": "desi-21.7e"
  },
  "language_info": {
   "codemirror_mode": {
    "name": "ipython",
    "version": 3
   },
   "file_extension": ".py",
   "mimetype": "text/x-python",
   "name": "python",
   "nbconvert_exporter": "python",
   "pygments_lexer": "ipython3",
   "version": "3.8.3"
  }
 },
 "nbformat": 4,
 "nbformat_minor": 5
}
