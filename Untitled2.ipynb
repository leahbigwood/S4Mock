{
 "cells": [
  {
   "cell_type": "code",
   "execution_count": 2,
   "id": "d353f849-9382-4c86-8582-e30a7fc41390",
   "metadata": {},
   "outputs": [],
   "source": [
    "import numpy as np\n",
    "from os.path import dirname, abspath, join as pjoin\n",
    "from Corrfunc.theory.DD import DD\n",
    "from Corrfunc.io import read_catalog\n",
    "from Corrfunc.utils import convert_3d_counts_to_cf\n",
    "from Corrfunc.mocks import *\n",
    "import matplotlib.pyplot as plt\n",
    "import pandas as pd\n",
    "\n",
    "import numpy as np\n",
    "import matplotlib.pyplot as plt\n",
    "import matplotlib.gridspec as gridspec\n",
    "\n",
    "import glob, time \n",
    "\n",
    "from astropy.io import fits as fits\n",
    "from astropy.table import Table, vstack\n",
    "from astropy import constants as const\n",
    "from astropy import units as u\n",
    "from astropy.table import QTable\n",
    "\n",
    "import healpy as hp\n",
    "import math\n",
    "\n",
    "import sys\n",
    "sys.path.append('/global/homes/l/lbigwood/LSS/py')\n",
    "import LSS\n",
    "import LSS.SV3\n",
    "import LSS.SV3.cattools as cattools\n",
    "\n",
    "from desitarget.targets import desi_mask, bgs_mask, mws_mask \n",
    "from desitarget.geomask import get_imaging_maskbits "
   ]
  },
  {
   "cell_type": "code",
   "execution_count": null,
   "id": "8097b53b-d11f-4f75-a95c-39cfe38607d9",
   "metadata": {},
   "outputs": [
    {
     "name": "stdout",
     "output_type": "stream",
     "text": [
      "Runtime of 0.314676 seconds after 0 pixels\n",
      "Runtime of 20.870398 seconds after 20 pixels\n",
      "Runtime of 44.535957 seconds after 40 pixels\n",
      "Runtime of 70.023028 seconds after 60 pixels\n",
      "Runtime of 94.236829 seconds after 80 pixels\n",
      "Runtime of 120.024308 seconds after 100 pixels\n"
     ]
    }
   ],
   "source": [
    "\n",
    "\n",
    "#working with main survey randoms here i.e not sv3\n",
    "to_grab=glob.glob('/global/cfs/cdirs/desi/target/catalogs/dr9/1.1.1/targets/main/resolve/bright/targets-bright-hp-*.fits') \n",
    "\n",
    "# very good practice to apply sorted, otherwise the file ordering will be random \tand non-repeatable.  \n",
    "to_grab = sorted(to_grab) \n",
    "\n",
    "hp_stack = []\n",
    "\n",
    "#do timer as takes a while\n",
    "start = time.time() \n",
    "\n",
    "#total number of pixels, not quite sure where this has come from as npix is less than this above \n",
    "\n",
    "\n",
    "mmask = 'BGS_TARGET'\n",
    "ttype = 'BGS_BRIGHT'\n",
    "\n",
    "#loop through pixels\n",
    "for i, x in enumerate(to_grab):\n",
    "    x = fits.open(x) #usecols=['RA', 'DEC', 'TARGETID', 'BGS_TARGET', 'MWS_TARGET'])\n",
    "    f = x[1].data\n",
    "    #mask for bgs objects\n",
    "    \n",
    "    is_bgs = (f[mmask] & bgs_mask[ttype]) != 0\n",
    "    #idx = np.arange(len(x))[is_bgs]\n",
    "    #x = x.iloc[idx] \n",
    "    hp_stack.append(f[is_bgs])\n",
    "\n",
    "    #more timing stuff\n",
    "    if (i % 20) == 0:\n",
    "        runtime = (time.time() - start)\n",
    "\n",
    "        print('Runtime of {:.6f} seconds after {:d} pixels'.format(runtime, i))\n",
    "\n",
    "    \n",
    "\n",
    "data_stack = np.concatenate(hp_stack)      \n",
    "        \n",
    "\n",
    "data_stack = Table(data_stack)\n",
    "mask,idx = np.unique(data_stack['TARGETID'],return_index=True)\n",
    "data_stack = data_stack[idx]\n",
    "\n",
    "\n",
    "#more timing stuff\n",
    "runtime = (time.time() - start)\n",
    "print('\\n\\nTotal runtime of {:.6f} seconds after {:d} pixels'.format(runtime, npix_todo))\n",
    "\n",
    "\n",
    "\n",
    "data_stack"
   ]
  },
  {
   "cell_type": "code",
   "execution_count": null,
   "id": "a41ae466-1418-4067-aa9b-3a9b7a3a16ec",
   "metadata": {},
   "outputs": [
    {
     "name": "stdout",
     "output_type": "stream",
     "text": [
      "Runtime of 0.770894 seconds after 0 pixels\n",
      "Runtime of 24.217334 seconds after 20 pixels\n",
      "Runtime of 36.185737 seconds after 40 pixels\n",
      "Runtime of 45.691893 seconds after 60 pixels\n",
      "Runtime of 53.147182 seconds after 80 pixels\n",
      "Runtime of 62.254574 seconds after 100 pixels\n",
      "Runtime of 75.824280 seconds after 120 pixels\n",
      "Runtime of 85.100656 seconds after 140 pixels\n"
     ]
    }
   ],
   "source": [
    "import corr_func"
   ]
  },
  {
   "cell_type": "code",
   "execution_count": null,
   "id": "98d6db43-4755-4932-ae6d-66c22ae27ccb",
   "metadata": {},
   "outputs": [],
   "source": []
  }
 ],
 "metadata": {
  "kernelspec": {
   "display_name": "DESI 21.7e",
   "language": "python",
   "name": "desi-21.7e"
  },
  "language_info": {
   "codemirror_mode": {
    "name": "ipython",
    "version": 3
   },
   "file_extension": ".py",
   "mimetype": "text/x-python",
   "name": "python",
   "nbconvert_exporter": "python",
   "pygments_lexer": "ipython3",
   "version": "3.8.3"
  }
 },
 "nbformat": 4,
 "nbformat_minor": 5
}
