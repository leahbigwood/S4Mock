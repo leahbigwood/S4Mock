{
 "cells": [
  {
   "cell_type": "code",
   "execution_count": null,
   "id": "96198a3a-0921-403d-90e3-74f40ee1a6c0",
   "metadata": {},
   "outputs": [],
   "source": [
    "%load_ext autoreload\n",
    "%autoreload 2\n",
    "\n",
    "import sys\n",
    "sys.path.append('/global/homes/l/lbigwood/S4Mock/')\n",
    "\n",
    "from astropy.table import Table\n",
    "\n",
    "from S4Mock_io import read_clustering_dat,read_clustering_ran,read_mainsurvey_targets,read_desitargetrandoms\n",
    "from corr_func_tools import calc_wtheta,create_axes\n",
    "\n",
    "import numpy as np\n",
    "import matplotlib.pyplot as plt\n",
    "\n",
    "nbins = 30"
   ]
  }
 ],
 "metadata": {
  "kernelspec": {
   "display_name": "DESI 21.7e",
   "language": "python",
   "name": "desi-21.7e"
  },
  "language_info": {
   "codemirror_mode": {
    "name": "ipython",
    "version": 3
   },
   "file_extension": ".py",
   "mimetype": "text/x-python",
   "name": "python",
   "nbconvert_exporter": "python",
   "pygments_lexer": "ipython3",
   "version": "3.8.3"
  }
 },
 "nbformat": 4,
 "nbformat_minor": 5
}
