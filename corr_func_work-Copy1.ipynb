{
 "cells": [
  {
   "cell_type": "code",
   "execution_count": 1,
   "id": "e60141b4-7da5-4df1-b0c5-08c984c4bf6e",
   "metadata": {},
   "outputs": [],
   "source": [
    "import numpy as np\n",
    "from os.path import dirname, abspath, join as pjoin\n",
    "from Corrfunc.theory.DD import DD\n",
    "from Corrfunc.io import read_catalog\n",
    "from Corrfunc.utils import convert_3d_counts_to_cf\n",
    "from Corrfunc.mocks import *\n",
    "import matplotlib.pyplot as plt\n",
    "import pandas as pd\n",
    "\n",
    "import numpy as np\n",
    "import matplotlib.pyplot as plt\n",
    "import matplotlib.gridspec as gridspec\n",
    "\n",
    "import glob, time \n",
    "\n",
    "from astropy.io import fits as fits\n",
    "from astropy.table import Table, vstack\n",
    "from astropy import constants as const\n",
    "from astropy import units as u\n",
    "from astropy.table import QTable\n",
    "\n",
    "import healpy as hp\n",
    "import math\n",
    "\n",
    "import sys\n",
    "sys.path.append('/global/homes/l/lbigwood/LSS/py')\n",
    "import LSS\n",
    "import LSS.SV3\n",
    "import LSS.SV3.cattools as cattools\n",
    "\n",
    "from desitarget.targets import desi_mask, bgs_mask, mws_mask \n",
    "from desitarget.geomask import get_imaging_maskbits "
   ]
  },
  {
   "cell_type": "markdown",
   "id": "e189aa60-cfae-4e1a-ae73-21e6bac5630e",
   "metadata": {},
   "source": [
    "First I trial it with the catalog they provide: "
   ]
  },
  {
   "cell_type": "code",
   "execution_count": 24,
   "id": "f9d5b95d-4571-49c5-8f92-a07ad861b43e",
   "metadata": {},
   "outputs": [
    {
     "name": "stderr",
     "output_type": "stream",
     "text": [
      "In gridlink_double> Running with [nmesh_x, nmesh_y, nmesh_z]  = 41,41,41.  Time taken =   0.078 sec\n",
      "0%.........10%.........20%.........30%.........40%.........50%.........60%.........70%.........80%.........90%.........100% done. Time taken =  0.865 secs\n",
      "ND1 =      1235904 [xmin,ymin,zmin] = [0.000400,0.000100,0.000300], [xmax,ymax,zmax] = [419.999817,419.999512,419.999207]\n",
      "ND2 =      3707712 [xmin,ymin,zmin] = [0.000066,0.000100,0.000150], [xmax,ymax,zmax] = [419.999973,419.999910,419.999574]\n",
      "In gridlink_double> Running with [nmesh_x, nmesh_y, nmesh_z]  = 41,41,41.  Time taken =   0.071 sec\n",
      "In gridlink_double> Running with [nmesh_x, nmesh_y, nmesh_z]  = 41,41,41.  Time taken =   0.733 sec\n",
      "0%.........10%.........20%.........30%.........40%.........50%.........60%.........70%.........80%.........90%.........100% done. Time taken =  3.050 secs\n",
      "In gridlink_double> Running with [nmesh_x, nmesh_y, nmesh_z]  = 41,41,41.  Time taken =   0.737 sec\n",
      "0%.........10%.........20%.........30%.........40%.........50%.........60%.........70%.........80%.........90%.........100% done. Time taken =  4.154 secs\n"
     ]
    }
   ],
   "source": [
    "# Read the supplied galaxies on a periodic box\n",
    "X, Y, Z = read_catalog()\n",
    "N = len(X)\n",
    "boxsize = 420.0\n",
    "nthreads = 2\n",
    "\n",
    "# Generate randoms on the box\n",
    "rand_N = 3*N\n",
    "rand_X = np.random.uniform(0, boxsize, rand_N)\n",
    "rand_Y = np.random.uniform(0, boxsize, rand_N)\n",
    "rand_Z = np.random.uniform(0, boxsize, rand_N)\n",
    "\n",
    "# Setup the bins\n",
    "nbins = 10\n",
    "bins = np.linspace(0.1, 10.0, nbins + 1) # note that +1 to nbins\n",
    "\n",
    "# Auto pair counts in DD\n",
    "autocorr=1\n",
    "DD_counts = DD(autocorr, nthreads, bins, X, Y, Z, periodic=False, verbose=True)\n",
    "\n",
    "# Cross pair counts in DR\n",
    "autocorr=0\n",
    "DR_counts = DD(autocorr, nthreads, bins, X, Y, Z, X2=rand_X, Y2=rand_Y, Z2=rand_Z, periodic=False, verbose=True)\n",
    "\n",
    "# Auto pairs counts in RR\n",
    "autocorr=1\n",
    "RR_counts = DD(autocorr, nthreads, bins, rand_X, rand_Y, rand_Z,periodic=False, verbose=True)\n",
    "\n",
    "# All the pair counts are done, get the correlation function\n",
    "cf = convert_3d_counts_to_cf(N, N, rand_N, rand_N,DD_counts, DR_counts,DR_counts, RR_counts)\n",
    "\n"
   ]
  },
  {
   "cell_type": "code",
   "execution_count": 9,
   "id": "269eb57f-22b1-4c44-8dff-69f43aea4ff1",
   "metadata": {},
   "outputs": [
    {
     "data": {
      "text/plain": [
       "[<matplotlib.lines.Line2D at 0x2aab25db7df0>]"
      ]
     },
     "execution_count": 9,
     "metadata": {},
     "output_type": "execute_result"
    },
    {
     "data": {
      "image/png": "[encoded data removed]",
      "text/plain": [
       "<Figure size 432x288 with 1 Axes>"
      ]
     },
     "metadata": {
      "needs_background": "light"
     },
     "output_type": "display_data"
    }
   ],
   "source": [
    "plt.plot(cf)"
   ]
  },
  {
   "cell_type": "code",
   "execution_count": null,
   "id": "8fc72d22-77e9-4ac6-87b5-2c5bb92283c9",
   "metadata": {},
   "outputs": [],
   "source": []
  },
  {
   "cell_type": "markdown",
   "id": "048bea1c-cbb5-470b-bae1-5401317a3152",
   "metadata": {},
   "source": [
    "Trying to find the projected correlation function for mxxl:"
   ]
  },
  {
   "cell_type": "code",
   "execution_count": null,
   "id": "dc36a789-797c-4bb1-b043-b416d7120ea1",
   "metadata": {},
   "outputs": [],
   "source": [
    "import numpy as np\n",
    "import Corrfunc\n",
    "from Corrfunc.mocks.DDrppi_mocks import DDrppi_mocks\n",
    "from Corrfunc.io import read_catalog\n",
    "from Corrfunc.utils import convert_rp_pi_counts_to_wp\n",
    "from astropy.cosmology import WMAP9 as cosmo\n",
    "from Corrfunc.utils import convert_to_native_endian \n",
    " \n",
    "\n",
    "# Read the supplied galaxies on a periodic box\n",
    "f = fits.open('/global/cscratch1/sd/mjwilson/desi/BGS/lumfn/MXXL/bright_v0.9.fits')\n",
    "mxxl=f[1].data\n",
    "\n",
    "RA = convert_to_native_endian(mxxl['RA'])\n",
    "DEC = convert_to_native_endian(mxxl['DEC'])\n",
    "CZ =convert_to_native_endian( np.array(cosmo.comoving_distance(mxxl['Z'])))\n",
    "N = len(RA)\n",
    "\n",
    "# Read the supplied randoms catalog\n",
    "f = fits.open('/global/cfs/cdirs/desi/survey/catalogs/SV3/LSS/random0/rancomb_brightwdup_Alltiles.fits')\n",
    "random1=f[1].data\n",
    "\n",
    "rand_RA = convert_to_native_endian(random1['RA'])\n",
    "rand_DEC = convert_to_native_endian(random1['DEC'])\n",
    "\n",
    "rand_CZ= convert_to_native_endian(np.array(list(CZ)))\n",
    "np.random.shuffle(rand_CZ)\n",
    "rand_N = len(rand_RA)\n",
    "\n",
    "\n",
    "\n",
    "\n",
    "# Setup the bins\n",
    "nbins = 10\n",
    "bins = np.linspace(0.1, 25.0, nbins + 1)\n",
    "pimax = 40.0\n",
    "\n",
    "cosmology = 1\n",
    "nthreads = 2\n",
    "\n",
    "# Auto pair counts in DD\n",
    "autocorr=1\n",
    "DD_counts = DDrppi_mocks(autocorr, cosmology, nthreads, pimax, bins,RA, DEC, CZ)\n",
    "\n",
    "\n",
    "# Cross pair counts in DR\n",
    "autocorr=0\n",
    "DR_counts = DDrppi_mocks(autocorr, cosmology, nthreads, pimax, bins,RA, DEC, CZ,RA2=rand_RA, DEC2=rand_DEC, CZ2=rand_CZ)\n",
    "\n",
    "\n",
    "# Auto pairs counts in RR\n",
    "autocorr=1\n",
    "RR_counts = DDrppi_mocks(autocorr, cosmology, nthreads, pimax, bins,rand_RA, rand_DEC, rand_CZ)\n",
    "\n",
    "# All the pair counts are done, get the angular correlation function\n",
    "wp = convert_rp_pi_counts_to_wp(N, N, rand_N, rand_N,DD_counts, DR_counts,DR_counts, RR_counts, nbins, pimax)"
   ]
  },
  {
   "cell_type": "code",
   "execution_count": 4,
   "id": "c794b5c6-6c8c-42c7-9d20-f504c7ebc5d3",
   "metadata": {},
   "outputs": [
    {
     "data": {
      "text/plain": [
       "array([nan, nan, nan, nan, nan, nan, nan, nan, nan, nan])"
      ]
     },
     "execution_count": 4,
     "metadata": {},
     "output_type": "execute_result"
    }
   ],
   "source": [
    "wp"
   ]
  },
  {
   "cell_type": "code",
   "execution_count": 2,
   "id": "01231079-12e8-47a4-9e12-be2da9eda12b",
   "metadata": {},
   "outputs": [
    {
     "name": "stdout",
     "output_type": "stream",
     "text": [
      "Runtime of 0.054786 seconds after 0 pixels\n",
      "Runtime of 3.926874 seconds after 100 pixels\n",
      "Runtime of 10.455444 seconds after 200 pixels\n",
      "Runtime of 16.081413 seconds after 300 pixels\n",
      "Runtime of 23.894085 seconds after 400 pixels\n",
      "Runtime of 30.687874 seconds after 500 pixels\n",
      "Runtime of 36.254425 seconds after 600 pixels\n",
      "Runtime of 42.637500 seconds after 700 pixels\n",
      "Runtime of 50.185276 seconds after 800 pixels\n",
      "Runtime of 55.663013 seconds after 900 pixels\n",
      "Runtime of 61.116721 seconds after 1000 pixels\n",
      "Runtime of 66.835728 seconds after 1100 pixels\n",
      "Runtime of 74.776762 seconds after 1200 pixels\n",
      "Runtime of 83.310304 seconds after 1300 pixels\n",
      "Runtime of 92.400433 seconds after 1400 pixels\n",
      "Runtime of 98.380402 seconds after 1500 pixels\n",
      "Runtime of 105.325092 seconds after 1600 pixels\n",
      "Runtime of 112.089290 seconds after 1700 pixels\n",
      "Runtime of 119.468570 seconds after 1800 pixels\n",
      "Runtime of 125.493064 seconds after 1900 pixels\n",
      "Runtime of 132.771437 seconds after 2000 pixels\n",
      "Runtime of 140.012080 seconds after 2100 pixels\n",
      "Runtime of 146.101819 seconds after 2200 pixels\n",
      "Runtime of 152.017145 seconds after 2300 pixels\n",
      "Runtime of 157.288034 seconds after 2400 pixels\n",
      "Runtime of 162.949426 seconds after 2500 pixels\n",
      "Runtime of 168.712992 seconds after 2600 pixels\n",
      "Runtime of 175.020400 seconds after 2700 pixels\n",
      "Runtime of 183.672273 seconds after 2800 pixels\n",
      "Runtime of 191.309553 seconds after 2900 pixels\n",
      "Runtime of 200.254252 seconds after 3000 pixels\n",
      "Runtime of 205.806029 seconds after 3100 pixels\n",
      "Runtime of 209.684620 seconds after 3200 pixels\n",
      "Runtime of 214.341811 seconds after 3300 pixels\n",
      "Runtime of 219.805350 seconds after 3400 pixels\n",
      "Runtime of 224.727566 seconds after 3500 pixels\n",
      "Runtime of 230.357883 seconds after 3600 pixels\n",
      "Runtime of 238.270909 seconds after 3700 pixels\n",
      "Runtime of 243.828424 seconds after 3800 pixels\n",
      "Runtime of 248.951326 seconds after 3900 pixels\n",
      "Runtime of 254.881161 seconds after 4000 pixels\n",
      "Runtime of 260.607007 seconds after 4100 pixels\n",
      "Runtime of 266.280664 seconds after 4200 pixels\n",
      "Runtime of 271.121857 seconds after 4300 pixels\n",
      "Runtime of 274.250158 seconds after 4400 pixels\n",
      "Runtime of 278.996572 seconds after 4500 pixels\n",
      "Runtime of 283.268605 seconds after 4600 pixels\n",
      "Runtime of 286.926048 seconds after 4700 pixels\n",
      "Runtime of 291.009149 seconds after 4800 pixels\n",
      "Runtime of 295.210693 seconds after 4900 pixels\n",
      "Runtime of 298.606004 seconds after 5000 pixels\n",
      "Runtime of 302.057505 seconds after 5100 pixels\n",
      "Runtime of 307.470070 seconds after 5200 pixels\n",
      "Runtime of 314.379423 seconds after 5300 pixels\n",
      "Runtime of 323.267546 seconds after 5400 pixels\n",
      "Runtime of 331.528377 seconds after 5500 pixels\n",
      "Runtime of 335.284573 seconds after 5600 pixels\n",
      "Runtime of 340.053441 seconds after 5700 pixels\n",
      "Runtime of 343.837539 seconds after 5800 pixels\n",
      "Runtime of 347.511034 seconds after 5900 pixels\n",
      "Runtime of 350.649069 seconds after 6000 pixels\n",
      "Runtime of 353.722826 seconds after 6100 pixels\n",
      "Runtime of 356.902566 seconds after 6200 pixels\n",
      "Runtime of 360.346593 seconds after 6300 pixels\n",
      "Runtime of 363.217758 seconds after 6400 pixels\n",
      "\n",
      "\n",
      "Total runtime of 371.134577 seconds after 200000 pixels\n"
     ]
    },
    {
     "data": {
      "text/html": [
       "<i>Table length=16938694</i>\n",
       "<table id=\"table46913362433792\" class=\"table-striped table-bordered table-condensed\">\n",
       "<thead><tr><th>RA</th><th>DEC</th><th>TARGETID</th><th>BGS_TARGET</th><th>MWS_TARGET</th></tr></thead>\n",
       "<thead><tr><th>float64</th><th>float64</th><th>int64</th><th>int64</th><th>int64</th></tr></thead>\n",
       "<tr><td>59.60086559409994</td><td>-68.12683131313392</td><td>39626498281308189</td><td>131074</td><td>0</td></tr>\n",
       "<tr><td>60.00983139575825</td><td>-68.16966639837612</td><td>39626498281308607</td><td>131074</td><td>0</td></tr>\n",
       "<tr><td>60.01124019929327</td><td>-68.16379040745758</td><td>39626498281308610</td><td>131074</td><td>0</td></tr>\n",
       "<tr><td>60.067316634746724</td><td>-68.1403940503445</td><td>39626498281308675</td><td>131074</td><td>0</td></tr>\n",
       "<tr><td>60.27687723658043</td><td>-68.1477166136955</td><td>39626498285502547</td><td>131074</td><td>0</td></tr>\n",
       "<tr><td>60.351730827700045</td><td>-68.1384524183673</td><td>39626498285502613</td><td>131074</td><td>0</td></tr>\n",
       "<tr><td>60.35480903565853</td><td>-68.15736062454609</td><td>39626498285502619</td><td>131074</td><td>0</td></tr>\n",
       "<tr><td>60.41502834204189</td><td>-68.14758441322456</td><td>39626498285502711</td><td>131074</td><td>0</td></tr>\n",
       "<tr><td>60.57191230896668</td><td>-68.15293728255374</td><td>39626498285502939</td><td>131074</td><td>0</td></tr>\n",
       "<tr><td>60.69114254438406</td><td>-68.12953112115999</td><td>39626498285503141</td><td>131074</td><td>0</td></tr>\n",
       "<tr><td>...</td><td>...</td><td>...</td><td>...</td><td>...</td></tr>\n",
       "<tr><td>353.90229538577836</td><td>34.19043634623619</td><td>39637366360509482</td><td>131074</td><td>0</td></tr>\n",
       "<tr><td>353.91138859516565</td><td>34.189754930577195</td><td>39637366360509605</td><td>131074</td><td>0</td></tr>\n",
       "<tr><td>353.9140417859083</td><td>34.19516748483782</td><td>39637366360509636</td><td>131074</td><td>0</td></tr>\n",
       "<tr><td>353.9156729717108</td><td>34.190661935823925</td><td>39637366360509656</td><td>131074</td><td>0</td></tr>\n",
       "<tr><td>353.9321728308656</td><td>34.139600042547336</td><td>39637366360509838</td><td>131074</td><td>0</td></tr>\n",
       "<tr><td>353.9425404968417</td><td>34.32039745519458</td><td>39637366360509977</td><td>131074</td><td>0</td></tr>\n",
       "<tr><td>353.94967431338137</td><td>34.33088940446574</td><td>39637366360510070</td><td>131074</td><td>0</td></tr>\n",
       "<tr><td>353.95134213072873</td><td>34.1574064921124</td><td>39637366360510096</td><td>131074</td><td>0</td></tr>\n",
       "<tr><td>353.95491984415384</td><td>34.16769884679844</td><td>39637366360510151</td><td>131074</td><td>0</td></tr>\n",
       "<tr><td>353.95951121176887</td><td>34.159867219725534</td><td>39637366360510211</td><td>131074</td><td>0</td></tr>\n",
       "</table>"
      ],
      "text/plain": [
       "<Table length=16938694>\n",
       "        RA                DEC              TARGETID     BGS_TARGET MWS_TARGET\n",
       "     float64            float64             int64         int64      int64   \n",
       "------------------ ------------------ ----------------- ---------- ----------\n",
       " 59.60086559409994 -68.12683131313392 39626498281308189     131074          0\n",
       " 60.00983139575825 -68.16966639837612 39626498281308607     131074          0\n",
       " 60.01124019929327 -68.16379040745758 39626498281308610     131074          0\n",
       "60.067316634746724  -68.1403940503445 39626498281308675     131074          0\n",
       " 60.27687723658043  -68.1477166136955 39626498285502547     131074          0\n",
       "60.351730827700045  -68.1384524183673 39626498285502613     131074          0\n",
       " 60.35480903565853 -68.15736062454609 39626498285502619     131074          0\n",
       " 60.41502834204189 -68.14758441322456 39626498285502711     131074          0\n",
       " 60.57191230896668 -68.15293728255374 39626498285502939     131074          0\n",
       " 60.69114254438406 -68.12953112115999 39626498285503141     131074          0\n",
       "               ...                ...               ...        ...        ...\n",
       "353.90229538577836  34.19043634623619 39637366360509482     131074          0\n",
       "353.91138859516565 34.189754930577195 39637366360509605     131074          0\n",
       " 353.9140417859083  34.19516748483782 39637366360509636     131074          0\n",
       " 353.9156729717108 34.190661935823925 39637366360509656     131074          0\n",
       " 353.9321728308656 34.139600042547336 39637366360509838     131074          0\n",
       " 353.9425404968417  34.32039745519458 39637366360509977     131074          0\n",
       "353.94967431338137  34.33088940446574 39637366360510070     131074          0\n",
       "353.95134213072873   34.1574064921124 39637366360510096     131074          0\n",
       "353.95491984415384  34.16769884679844 39637366360510151     131074          0\n",
       "353.95951121176887 34.159867219725534 39637366360510211     131074          0"
      ]
     },
     "execution_count": 2,
     "metadata": {},
     "output_type": "execute_result"
    }
   ],
   "source": [
    "#main survey data: files are in healpixels so this just creates a big file of them all \n",
    "#and makes cuts so it's bgs only \n",
    "\n",
    "#working with main survey randoms here i.e not sv3\n",
    "to_grab=glob.glob('/global/cfs/cdirs/desi/survey/ops/surveyops/trunk/mtl/main/bright/mtl-bright-hp-*.ecsv') \n",
    "\n",
    "# very good practice to apply sorted, otherwise the file ordering will be random \tand non-repeatable.  \n",
    "to_grab = sorted(to_grab) \n",
    "\n",
    "hp_stack = []\n",
    "\n",
    "#do timer as takes a while\n",
    "start = time.time() \n",
    "\n",
    "#total number of pixels, not quite sure where this has come from as npix is less than this above \n",
    "npix_todo = 200000\n",
    "\n",
    "mmask = 'BGS_TARGET'\n",
    "ttype = 'BGS_BRIGHT'\n",
    "\n",
    "#loop through pixels\n",
    "for i, x in enumerate(to_grab):\n",
    "    x = pd.read_csv(x, comment='#', delimiter='\\s+', usecols=['RA', 'DEC', 'TARGETID', 'BGS_TARGET', 'MWS_TARGET'])\n",
    "\n",
    "    #mask for bgs objects\n",
    "    is_bgs = (x[mmask] & bgs_mask[ttype]) != 0\n",
    "    idx = np.arange(len(x))[is_bgs]\n",
    "    x = x.iloc[idx] \n",
    "    hp_stack.append(x)\n",
    "\n",
    "    #more timing stuff\n",
    "    if (i % 100) == 0:\n",
    "        runtime = (time.time() - start)\n",
    "\n",
    "        print('Runtime of {:.6f} seconds after {:d} pixels'.format(runtime, i))\n",
    "\n",
    "    if i > npix_todo:\n",
    "        break\n",
    "        \n",
    "# Create a big table from the list of tables.  \n",
    "data_stack = pd.concat(hp_stack, ignore_index=True)\n",
    "\n",
    "#unique targets only and put it in right table format\n",
    "mask,idx = np.unique(data_stack['TARGETID'],return_index=True)\n",
    "data_stack = data_stack.iloc[idx]\n",
    "data_stack = Table.from_pandas(data_stack)\n",
    "\n",
    "#more timing stuff\n",
    "runtime = (time.time() - start)\n",
    "print('\\n\\nTotal runtime of {:.6f} seconds after {:d} pixels'.format(runtime, npix_todo))\n",
    "\n",
    "data_stack"
   ]
  },
  {
   "cell_type": "code",
   "execution_count": null,
   "id": "d9be50b9-1af8-4483-b33e-0ed15af73223",
   "metadata": {},
   "outputs": [
    {
     "name": "stderr",
     "output_type": "stream",
     "text": [
      "/global/homes/l/lbigwood/.local/lib/python3.8/site-packages/Corrfunc/utils.py:918: UserWarning: One or more input array has non-native endianness!  A copy will be made with the correct endianness.\n",
      "  warnings.warn(\"One or more input array has non-native endianness!  A copy will\"\\\n"
     ]
    }
   ],
   "source": [
    "#angular correlation function for mock data.  This is based on SV3 so use different randoms \n",
    "\n",
    "import numpy as np\n",
    "import Corrfunc\n",
    "from Corrfunc.mocks.DDtheta_mocks import DDtheta_mocks\n",
    "from Corrfunc.utils import convert_3d_counts_to_cf\n",
    "\n",
    "\n",
    "# Read the supplied galaxies on a periodic box\n",
    "#f = fits.open('/global/cscratch1/sd/mjwilson/desi/BGS/lumfn/MXXL/bright_v0.9.fits')\n",
    "#mxxl=f[1].data\n",
    "\n",
    "RA = data_stack['RA']\n",
    "DEC = data_stack['DEC']\n",
    "N = len(RA)\n",
    "\n",
    "# Read the supplied randoms catalog\n",
    "f = fits.open('/global/cfs/cdirs/desi/target/catalogs/dr9/0.49.0/randoms/resolve/randoms-1-0.fits')\n",
    "random1=f[1].data\n",
    "\n",
    "rand_RA = random1['RA']\n",
    "rand_DEC = random1['DEC']\n",
    "rand_N = len(rand_RA)\n",
    "\n",
    "# Setup the bins\n",
    "nbins = 10\n",
    "bins = np.linspace(0.001, 10.0, nbins + 1) # note the +1 to nbins\n",
    "\n",
    "# Number of threads to use\n",
    "nthreads = 2\n",
    "\n",
    "# Auto pair counts in DD\n",
    "autocorr=1\n",
    "DD_counts = DDtheta_mocks(autocorr, nthreads, bins,RA, DEC)\n",
    "\n",
    "# Cross pair counts in DR\n",
    "autocorr=0\n",
    "DR_counts = DDtheta_mocks(autocorr, nthreads, bins,RA, DEC,RA2=rand_RA, DEC2=rand_DEC)\n",
    "\n",
    "# Auto pairs counts in RR\n",
    "autocorr=1\n",
    "RR_counts = DDtheta_mocks(autocorr, nthreads, bins, rand_RA, rand_DEC)\n",
    "\n",
    "# All the pair counts are done, get the angular correlation function\n",
    "wtheta = convert_3d_counts_to_cf(N, N, rand_N, rand_N, DD_counts, DR_counts,DR_counts, RR_counts)"
   ]
  },
  {
   "cell_type": "code",
   "execution_count": 18,
   "id": "cbde2b39-de33-4785-8b07-74a0080de1c1",
   "metadata": {},
   "outputs": [
    {
     "data": {
      "text/plain": [
       "[<matplotlib.lines.Line2D at 0x2aaaded13d60>]"
      ]
     },
     "execution_count": 18,
     "metadata": {},
     "output_type": "execute_result"
    },
    {
     "data": {
      "image/png": "[encoded data removed]",
      "text/plain": [
       "<Figure size 432x288 with 1 Axes>"
      ]
     },
     "metadata": {
      "needs_background": "light"
     },
     "output_type": "display_data"
    }
   ],
   "source": [
    "plt.plot( np.linspace(0.001, 10.0, nbins),wtheta)"
   ]
  },
  {
   "cell_type": "code",
   "execution_count": 14,
   "id": "fa492dd5-b715-4405-8e25-951262c49771",
   "metadata": {},
   "outputs": [
    {
     "data": {
      "text/plain": [
       "16938694"
      ]
     },
     "execution_count": 14,
     "metadata": {},
     "output_type": "execute_result"
    }
   ],
   "source": [
    "len(random1['RA'])\n",
    "len(data_stack['RA'])"
   ]
  },
  {
   "cell_type": "markdown",
   "id": "985952a2-0843-4976-8341-5539cdebd378",
   "metadata": {},
   "source": [
    "I'm also trying to find the angular correlation function below, but also no luck."
   ]
  },
  {
   "cell_type": "code",
   "execution_count": 6,
   "id": "e0cf3d49-56b9-4643-883d-eb55769011bf",
   "metadata": {},
   "outputs": [
    {
     "ename": "NameError",
     "evalue": "name 'array' is not defined",
     "output_type": "error",
     "traceback": [
      "\u001b[0;31m---------------------------------------------------------------------------\u001b[0m",
      "\u001b[0;31mNameError\u001b[0m                                 Traceback (most recent call last)",
      "\u001b[0;32m<ipython-input-6-b306b48b8940>\u001b[0m in \u001b[0;36m<module>\u001b[0;34m\u001b[0m\n\u001b[1;32m      9\u001b[0m \u001b[0;34m\u001b[0m\u001b[0m\n\u001b[1;32m     10\u001b[0m \u001b[0;34m\u001b[0m\u001b[0m\n\u001b[0;32m---> 11\u001b[0;31m \u001b[0marray\u001b[0m \u001b[0;34m=\u001b[0m \u001b[0mconvert_to_native_endian\u001b[0m \u001b[0;34m(\u001b[0m\u001b[0marray\u001b[0m\u001b[0;34m,\u001b[0m \u001b[0mwarn\u001b[0m\u001b[0;34m=\u001b[0m\u001b[0;32mFalse\u001b[0m\u001b[0;34m)\u001b[0m\u001b[0;34m\u001b[0m\u001b[0;34m\u001b[0m\u001b[0m\n\u001b[0m\u001b[1;32m     12\u001b[0m \u001b[0;34m\u001b[0m\u001b[0m\n\u001b[1;32m     13\u001b[0m \u001b[0;31m# Read the supplied galaxies on a periodic box\u001b[0m\u001b[0;34m\u001b[0m\u001b[0;34m\u001b[0m\u001b[0;34m\u001b[0m\u001b[0m\n",
      "\u001b[0;31mNameError\u001b[0m: name 'array' is not defined"
     ]
    }
   ],
   "source": [
    "#angular correlation function for mock data.  This is based on SV3 so use different randoms \n",
    "\n",
    "import numpy as np\n",
    "import Corrfunc\n",
    "from Corrfunc.mocks.DDtheta_mocks import DDtheta_mocks\n",
    "from Corrfunc.utils import convert_3d_counts_to_cf\n",
    "from Corrfunc.utils import convert_to_native_endian \n",
    "\n",
    " \n",
    "\n",
    "array = convert_to_native_endian (array, warn=False) \n",
    "\n",
    "# Read the supplied galaxies on a periodic box\n",
    "#f = fits.open('/global/cscratch1/sd/mjwilson/desi/BGS/lumfn/MXXL/bright_v0.9.fits')\n",
    "#mxxl=f[1].data\n",
    "\n",
    "RA = convert_to_native_endian(data_stack['RA'][:1000])\n",
    "DEC = convert_to_native_endian(data_stack['DEC'][:1000])\n",
    "\n",
    "# Read the supplied randoms catalog\n",
    "f = fits.open('/global/cfs/cdirs/desi/target/catalogs/dr9/0.49.0/randoms/resolve/randoms-1-0.fits')\n",
    "random1=f[1].data\n",
    "\n",
    "rand_RA = random1['RA'][:1000]\n",
    "rand_DEC = random1['DEC'][:1000]\n",
    "rand_N = len(rand_RA)\n",
    "\n",
    "# Setup the bins\n",
    "nbins = 10\n",
    "bins = np.linspace(0.001, 10.0, nbins + 1) # note the +1 to nbins\n",
    "\n",
    "# Number of threads to use\n",
    "nthreads = 2\n",
    "\n",
    "# Auto pair counts in DD\n",
    "autocorr=1\n",
    "DD_counts = DDtheta_mocks(autocorr, nthreads, bins,RA, DEC)\n",
    "\n",
    "# Cross pair counts in DR\n",
    "autocorr=0\n",
    "DR_counts = DDtheta_mocks(autocorr, nthreads, bins,RA, DEC,RA2=rand_RA, DEC2=rand_DEC)\n",
    "\n",
    "# Auto pairs counts in RR\n",
    "autocorr=1\n",
    "RR_counts = DDtheta_mocks(autocorr, nthreads, bins, rand_RA, rand_DEC)\n",
    "\n",
    "# All the pair counts are done, get the angular correlation function\n",
    "wtheta = convert_3d_counts_to_cf(N, N, rand_N, rand_N, DD_counts, DR_counts,DR_counts, RR_counts)"
   ]
  },
  {
   "cell_type": "code",
   "execution_count": null,
   "id": "afa5bcc8-1ed6-4035-a4cd-f0893c63b947",
   "metadata": {},
   "outputs": [],
   "source": []
  }
 ],
 "metadata": {
  "kernelspec": {
   "display_name": "DESI 21.7e",
   "language": "python",
   "name": "desi-21.7e"
  },
  "language_info": {
   "codemirror_mode": {
    "name": "ipython",
    "version": 3
   },
   "file_extension": ".py",
   "mimetype": "text/x-python",
   "name": "python",
   "nbconvert_exporter": "python",
   "pygments_lexer": "ipython3",
   "version": "3.8.3"
  }
 },
 "nbformat": 4,
 "nbformat_minor": 5
}
