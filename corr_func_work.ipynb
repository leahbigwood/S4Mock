{
 "cells": [
  {
   "cell_type": "code",
   "execution_count": 3,
   "id": "e60141b4-7da5-4df1-b0c5-08c984c4bf6e",
   "metadata": {},
   "outputs": [],
   "source": [
    "import numpy as np\n",
    "from os.path import dirname, abspath, join as pjoin\n",
    "from Corrfunc.theory.DD import DD\n",
    "from Corrfunc.io import read_catalog\n",
    "from Corrfunc.utils import convert_3d_counts_to_cf\n",
    "from Corrfunc.mocks import *\n",
    "import matplotlib.pyplot as plt\n",
    "import pandas as pd\n",
    "\n",
    "import numpy as np\n",
    "import matplotlib.pyplot as plt\n",
    "import matplotlib.gridspec as gridspec\n",
    "\n",
    "import glob, time \n",
    "\n",
    "from astropy.io import fits as fits\n",
    "from astropy.table import Table, vstack\n",
    "from astropy import constants as const\n",
    "from astropy import units as u\n",
    "from astropy.table import QTable\n",
    "\n",
    "import healpy as hp\n",
    "import math\n",
    "\n",
    "import sys\n",
    "sys.path.append('/global/homes/l/lbigwood/LSS/py')\n",
    "import LSS\n",
    "import LSS.SV3\n",
    "import LSS.SV3.cattools as cattools\n",
    "\n",
    "from desitarget.targets import desi_mask, bgs_mask, mws_mask \n",
    "from desitarget.geomask import get_imaging_maskbits "
   ]
  },
  {
   "cell_type": "markdown",
   "id": "e189aa60-cfae-4e1a-ae73-21e6bac5630e",
   "metadata": {},
   "source": [
    "First I trial it with the catalog they provide: "
   ]
  },
  {
   "cell_type": "code",
   "execution_count": 24,
   "id": "f9d5b95d-4571-49c5-8f92-a07ad861b43e",
   "metadata": {},
   "outputs": [
    {
     "name": "stderr",
     "output_type": "stream",
     "text": [
      "In gridlink_double> Running with [nmesh_x, nmesh_y, nmesh_z]  = 41,41,41.  Time taken =   0.078 sec\n",
      "0%.........10%.........20%.........30%.........40%.........50%.........60%.........70%.........80%.........90%.........100% done. Time taken =  0.865 secs\n",
      "ND1 =      1235904 [xmin,ymin,zmin] = [0.000400,0.000100,0.000300], [xmax,ymax,zmax] = [419.999817,419.999512,419.999207]\n",
      "ND2 =      3707712 [xmin,ymin,zmin] = [0.000066,0.000100,0.000150], [xmax,ymax,zmax] = [419.999973,419.999910,419.999574]\n",
      "In gridlink_double> Running with [nmesh_x, nmesh_y, nmesh_z]  = 41,41,41.  Time taken =   0.071 sec\n",
      "In gridlink_double> Running with [nmesh_x, nmesh_y, nmesh_z]  = 41,41,41.  Time taken =   0.733 sec\n",
      "0%.........10%.........20%.........30%.........40%.........50%.........60%.........70%.........80%.........90%.........100% done. Time taken =  3.050 secs\n",
      "In gridlink_double> Running with [nmesh_x, nmesh_y, nmesh_z]  = 41,41,41.  Time taken =   0.737 sec\n",
      "0%.........10%.........20%.........30%.........40%.........50%.........60%.........70%.........80%.........90%.........100% done. Time taken =  4.154 secs\n"
     ]
    }
   ],
   "source": [
    "# Read the supplied galaxies on a periodic box\n",
    "X, Y, Z = read_catalog()\n",
    "N = len(X)\n",
    "boxsize = 420.0\n",
    "nthreads = 2\n",
    "\n",
    "# Generate randoms on the box\n",
    "rand_N = 3*N\n",
    "rand_X = np.random.uniform(0, boxsize, rand_N)\n",
    "rand_Y = np.random.uniform(0, boxsize, rand_N)\n",
    "rand_Z = np.random.uniform(0, boxsize, rand_N)\n",
    "\n",
    "# Setup the bins\n",
    "nbins = 10\n",
    "bins = np.linspace(0.1, 10.0, nbins + 1) # note that +1 to nbins\n",
    "\n",
    "# Auto pair counts in DD\n",
    "autocorr=1\n",
    "DD_counts = DD(autocorr, nthreads, bins, X, Y, Z, periodic=False, verbose=True)\n",
    "\n",
    "# Cross pair counts in DR\n",
    "autocorr=0\n",
    "DR_counts = DD(autocorr, nthreads, bins, X, Y, Z, X2=rand_X, Y2=rand_Y, Z2=rand_Z, periodic=False, verbose=True)\n",
    "\n",
    "# Auto pairs counts in RR\n",
    "autocorr=1\n",
    "RR_counts = DD(autocorr, nthreads, bins, rand_X, rand_Y, rand_Z,periodic=False, verbose=True)\n",
    "\n",
    "# All the pair counts are done, get the correlation function\n",
    "cf = convert_3d_counts_to_cf(N, N, rand_N, rand_N,DD_counts, DR_counts,DR_counts, RR_counts)\n",
    "\n"
   ]
  },
  {
   "cell_type": "code",
   "execution_count": 9,
   "id": "269eb57f-22b1-4c44-8dff-69f43aea4ff1",
   "metadata": {},
   "outputs": [
    {
     "data": {
      "text/plain": [
       "[<matplotlib.lines.Line2D at 0x2aab25db7df0>]"
      ]
     },
     "execution_count": 9,
     "metadata": {},
     "output_type": "execute_result"
    },
    {
     "data": {
      "image/png": "[encoded data removed]",
      "text/plain": [
       "<Figure size 432x288 with 1 Axes>"
      ]
     },
     "metadata": {
      "needs_background": "light"
     },
     "output_type": "display_data"
    }
   ],
   "source": [
    "plt.plot(cf)"
   ]
  },
  {
   "cell_type": "markdown",
   "id": "048bea1c-cbb5-470b-bae1-5401317a3152",
   "metadata": {},
   "source": [
    "Trying to find the projected correlation function for mxxl:"
   ]
  },
  {
   "cell_type": "code",
   "execution_count": 4,
   "id": "dc36a789-797c-4bb1-b043-b416d7120ea1",
   "metadata": {},
   "outputs": [
    {
     "name": "stderr",
     "output_type": "stream",
     "text": [
      "/global/homes/l/lbigwood/.local/lib/python3.8/site-packages/Corrfunc/utils.py:918: UserWarning: One or more input array has non-native endianness!  A copy will be made with the correct endianness.\n",
      "  warnings.warn(\"One or more input array has non-native endianness!  A copy will\"\\\n"
     ]
    }
   ],
   "source": [
    "import numpy as np\n",
    "import Corrfunc\n",
    "from Corrfunc.mocks.DDrppi_mocks import DDrppi_mocks\n",
    "from Corrfunc.io import read_catalog\n",
    "from Corrfunc.utils import convert_rp_pi_counts_to_wp\n",
    "from astropy.cosmology import WMAP9 as cosmo\n",
    " \n",
    "\n",
    "# Read the supplied galaxies on a periodic box\n",
    "f = fits.open('/global/cscratch1/sd/mjwilson/desi/BGS/lumfn/MXXL/bright_v0.9.fits')\n",
    "mxxl=f[1].data\n",
    "\n",
    "RA = mxxl['RA'][:1000]\n",
    "DEC = mxxl['DEC'][:1000]\n",
    "CZ = np.array(cosmo.comoving_distance(mxxl['Z']))[:1000]\n",
    "N = len(RA)\n",
    "\n",
    "# Read the supplied randoms catalog\n",
    "f = fits.open('/global/cfs/cdirs/desi/survey/catalogs/SV3/LSS/random0/rancomb_brightwdup_Alltiles.fits')\n",
    "random1=f[1].data\n",
    "\n",
    "rand_RA = random1['RA'][:1000]\n",
    "rand_DEC = random1['DEC'][:1000]\n",
    "\n",
    "rand_CZ= np.array(list(CZ))\n",
    "np.random.shuffle(rand_CZ)\n",
    "rand_N = len(rand_RA)\n",
    "\n",
    "\n",
    "\n",
    "\n",
    "# Setup the bins\n",
    "nbins = 10\n",
    "bins = np.linspace(0.1, 20.0, nbins + 1)\n",
    "pimax = 40.0\n",
    "\n",
    "cosmology = 1\n",
    "nthreads = 2\n",
    "\n",
    "# Auto pair counts in DD\n",
    "autocorr=1\n",
    "DD_counts = DDrppi_mocks(autocorr, cosmology, nthreads, pimax, bins,RA, DEC, CZ)\n",
    "\n",
    "\n",
    "# Cross pair counts in DR\n",
    "autocorr=0\n",
    "DR_counts = DDrppi_mocks(autocorr, cosmology, nthreads, pimax, bins,RA, DEC, CZ,RA2=rand_RA, DEC2=rand_DEC, CZ2=rand_CZ)\n",
    "\n",
    "\n",
    "# Auto pairs counts in RR\n",
    "autocorr=1\n",
    "RR_counts = DDrppi_mocks(autocorr, cosmology, nthreads, pimax, bins,rand_RA, rand_DEC, rand_CZ)\n",
    "\n",
    "# All the pair counts are done, get the angular correlation function\n",
    "wp = convert_rp_pi_counts_to_wp(N, N, rand_N, rand_N,DD_counts, DR_counts,DR_counts, RR_counts, nbins, pimax)"
   ]
  },
  {
   "cell_type": "code",
   "execution_count": 5,
   "id": "c794b5c6-6c8c-42c7-9d20-f504c7ebc5d3",
   "metadata": {},
   "outputs": [
    {
     "data": {
      "text/plain": [
       "[<matplotlib.lines.Line2D at 0x2aaadc881820>]"
      ]
     },
     "execution_count": 5,
     "metadata": {},
     "output_type": "execute_result"
    },
    {
     "data": {
      "image/png": "[encoded data removed]",
      "text/plain": [
       "<Figure size 432x288 with 1 Axes>"
      ]
     },
     "metadata": {
      "needs_background": "light"
     },
     "output_type": "display_data"
    }
   ],
   "source": [
    "plt.plot(wp)"
   ]
  },
  {
   "cell_type": "markdown",
   "id": "985952a2-0843-4976-8341-5539cdebd378",
   "metadata": {},
   "source": [
    "I'm also trying to find the angular correlation function below, but also no luck."
   ]
  },
  {
   "cell_type": "code",
   "execution_count": null,
   "id": "e0cf3d49-56b9-4643-883d-eb55769011bf",
   "metadata": {},
   "outputs": [],
   "source": [
    "#angular correlation function for mock data.  This is based on SV3 so use different randoms \n",
    "\n",
    "import numpy as np\n",
    "import Corrfunc\n",
    "from Corrfunc.mocks.DDtheta_mocks import DDtheta_mocks\n",
    "from Corrfunc.utils import convert_3d_counts_to_cf\n",
    "\n",
    "# Read the supplied galaxies on a periodic box\n",
    "f = fits.open('/global/cscratch1/sd/mjwilson/desi/BGS/lumfn/MXXL/bright_v0.9.fits')\n",
    "mxxl=f[1].data\n",
    "\n",
    "RA = mxxl['RA'][:1000]\n",
    "DEC = mxxl['DEC'][:1000]\n",
    "\n",
    "# Read the supplied randoms catalog\n",
    "f = fits.open('/global/cfs/cdirs/desi/survey/catalogs/SV3/LSS/random0/rancomb_brightwdup_Alltiles.fits')\n",
    "random1=f[1].data\n",
    "\n",
    "rand_RA = random1['RA'][:1000]\n",
    "rand_DEC = random1['DEC'][:1000]\n",
    "rand_N = len(rand_RA)\n",
    "\n",
    "# Setup the bins\n",
    "nbins = 10\n",
    "bins = np.linspace(0.001, 10.0, nbins + 1) # note the +1 to nbins\n",
    "\n",
    "# Number of threads to use\n",
    "nthreads = 2\n",
    "\n",
    "# Auto pair counts in DD\n",
    "autocorr=1\n",
    "DD_counts = DDtheta_mocks(autocorr, nthreads, bins,RA, DEC)\n",
    "\n",
    "# Cross pair counts in DR\n",
    "autocorr=0\n",
    "DR_counts = DDtheta_mocks(autocorr, nthreads, bins,RA, DEC,RA2=rand_RA, DEC2=rand_DEC)\n",
    "\n",
    "# Auto pairs counts in RR\n",
    "autocorr=1\n",
    "RR_counts = DDtheta_mocks(autocorr, nthreads, bins, rand_RA, rand_DEC)\n",
    "\n",
    "# All the pair counts are done, get the angular correlation function\n",
    "wtheta = convert_3d_counts_to_cf(N, N, rand_N, rand_N, DD_counts, DR_counts,DR_counts, RR_counts)"
   ]
  }
 ],
 "metadata": {
  "kernelspec": {
   "display_name": "DESI 21.7e",
   "language": "python",
   "name": "desi-21.7e"
  },
  "language_info": {
   "codemirror_mode": {
    "name": "ipython",
    "version": 3
   },
   "file_extension": ".py",
   "mimetype": "text/x-python",
   "name": "python",
   "nbconvert_exporter": "python",
   "pygments_lexer": "ipython3",
   "version": "3.8.3"
  }
 },
 "nbformat": 4,
 "nbformat_minor": 5
}
